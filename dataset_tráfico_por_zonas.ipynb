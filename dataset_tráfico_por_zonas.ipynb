{
 "cells": [
  {
   "cell_type": "code",
   "execution_count": null,
   "metadata": {
    "colab": {
     "base_uri": "https://localhost:8080/"
    },
    "id": "u0Q8gobgEFK0",
    "outputId": "72a038af-48fd-4f2b-cdd4-389ee19a68d2"
   },
   "outputs": [
    {
     "name": "stdout",
     "output_type": "stream",
     "text": [
      "Requirement already satisfied: google-cloud-storage in /usr/local/lib/python3.11/dist-packages (2.19.0)\n",
      "Requirement already satisfied: google-auth<3.0dev,>=2.26.1 in /usr/local/lib/python3.11/dist-packages (from google-cloud-storage) (2.38.0)\n",
      "Requirement already satisfied: google-api-core<3.0.0dev,>=2.15.0 in /usr/local/lib/python3.11/dist-packages (from google-cloud-storage) (2.24.2)\n",
      "Requirement already satisfied: google-cloud-core<3.0dev,>=2.3.0 in /usr/local/lib/python3.11/dist-packages (from google-cloud-storage) (2.4.3)\n",
      "Requirement already satisfied: google-resumable-media>=2.7.2 in /usr/local/lib/python3.11/dist-packages (from google-cloud-storage) (2.7.2)\n",
      "Requirement already satisfied: requests<3.0.0dev,>=2.18.0 in /usr/local/lib/python3.11/dist-packages (from google-cloud-storage) (2.32.3)\n",
      "Requirement already satisfied: google-crc32c<2.0dev,>=1.0 in /usr/local/lib/python3.11/dist-packages (from google-cloud-storage) (1.7.1)\n",
      "Requirement already satisfied: googleapis-common-protos<2.0.0,>=1.56.2 in /usr/local/lib/python3.11/dist-packages (from google-api-core<3.0.0dev,>=2.15.0->google-cloud-storage) (1.70.0)\n",
      "Requirement already satisfied: protobuf!=3.20.0,!=3.20.1,!=4.21.0,!=4.21.1,!=4.21.2,!=4.21.3,!=4.21.4,!=4.21.5,<7.0.0,>=3.19.5 in /usr/local/lib/python3.11/dist-packages (from google-api-core<3.0.0dev,>=2.15.0->google-cloud-storage) (5.29.4)\n",
      "Requirement already satisfied: proto-plus<2.0.0,>=1.22.3 in /usr/local/lib/python3.11/dist-packages (from google-api-core<3.0.0dev,>=2.15.0->google-cloud-storage) (1.26.1)\n",
      "Requirement already satisfied: cachetools<6.0,>=2.0.0 in /usr/local/lib/python3.11/dist-packages (from google-auth<3.0dev,>=2.26.1->google-cloud-storage) (5.5.2)\n",
      "Requirement already satisfied: pyasn1-modules>=0.2.1 in /usr/local/lib/python3.11/dist-packages (from google-auth<3.0dev,>=2.26.1->google-cloud-storage) (0.4.2)\n",
      "Requirement already satisfied: rsa<5,>=3.1.4 in /usr/local/lib/python3.11/dist-packages (from google-auth<3.0dev,>=2.26.1->google-cloud-storage) (4.9.1)\n",
      "Requirement already satisfied: charset-normalizer<4,>=2 in /usr/local/lib/python3.11/dist-packages (from requests<3.0.0dev,>=2.18.0->google-cloud-storage) (3.4.2)\n",
      "Requirement already satisfied: idna<4,>=2.5 in /usr/local/lib/python3.11/dist-packages (from requests<3.0.0dev,>=2.18.0->google-cloud-storage) (3.10)\n",
      "Requirement already satisfied: urllib3<3,>=1.21.1 in /usr/local/lib/python3.11/dist-packages (from requests<3.0.0dev,>=2.18.0->google-cloud-storage) (2.4.0)\n",
      "Requirement already satisfied: certifi>=2017.4.17 in /usr/local/lib/python3.11/dist-packages (from requests<3.0.0dev,>=2.18.0->google-cloud-storage) (2025.4.26)\n",
      "Requirement already satisfied: pyasn1<0.7.0,>=0.6.1 in /usr/local/lib/python3.11/dist-packages (from pyasn1-modules>=0.2.1->google-auth<3.0dev,>=2.26.1->google-cloud-storage) (0.6.1)\n",
      "Requirement already satisfied: folium in /usr/local/lib/python3.11/dist-packages (0.19.5)\n",
      "Requirement already satisfied: ipywidgets in /usr/local/lib/python3.11/dist-packages (7.7.1)\n",
      "Requirement already satisfied: branca>=0.6.0 in /usr/local/lib/python3.11/dist-packages (from folium) (0.8.1)\n",
      "Requirement already satisfied: jinja2>=2.9 in /usr/local/lib/python3.11/dist-packages (from folium) (3.1.6)\n",
      "Requirement already satisfied: numpy in /usr/local/lib/python3.11/dist-packages (from folium) (2.0.2)\n",
      "Requirement already satisfied: requests in /usr/local/lib/python3.11/dist-packages (from folium) (2.32.3)\n",
      "Requirement already satisfied: xyzservices in /usr/local/lib/python3.11/dist-packages (from folium) (2025.4.0)\n",
      "Requirement already satisfied: ipykernel>=4.5.1 in /usr/local/lib/python3.11/dist-packages (from ipywidgets) (6.17.1)\n",
      "Requirement already satisfied: ipython-genutils~=0.2.0 in /usr/local/lib/python3.11/dist-packages (from ipywidgets) (0.2.0)\n",
      "Requirement already satisfied: traitlets>=4.3.1 in /usr/local/lib/python3.11/dist-packages (from ipywidgets) (5.7.1)\n",
      "Requirement already satisfied: widgetsnbextension~=3.6.0 in /usr/local/lib/python3.11/dist-packages (from ipywidgets) (3.6.10)\n",
      "Requirement already satisfied: ipython>=4.0.0 in /usr/local/lib/python3.11/dist-packages (from ipywidgets) (7.34.0)\n",
      "Requirement already satisfied: jupyterlab-widgets>=1.0.0 in /usr/local/lib/python3.11/dist-packages (from ipywidgets) (3.0.15)\n",
      "Requirement already satisfied: debugpy>=1.0 in /usr/local/lib/python3.11/dist-packages (from ipykernel>=4.5.1->ipywidgets) (1.8.0)\n",
      "Requirement already satisfied: jupyter-client>=6.1.12 in /usr/local/lib/python3.11/dist-packages (from ipykernel>=4.5.1->ipywidgets) (6.1.12)\n",
      "Requirement already satisfied: matplotlib-inline>=0.1 in /usr/local/lib/python3.11/dist-packages (from ipykernel>=4.5.1->ipywidgets) (0.1.7)\n",
      "Requirement already satisfied: nest-asyncio in /usr/local/lib/python3.11/dist-packages (from ipykernel>=4.5.1->ipywidgets) (1.6.0)\n",
      "Requirement already satisfied: packaging in /usr/local/lib/python3.11/dist-packages (from ipykernel>=4.5.1->ipywidgets) (24.2)\n",
      "Requirement already satisfied: psutil in /usr/local/lib/python3.11/dist-packages (from ipykernel>=4.5.1->ipywidgets) (5.9.5)\n",
      "Requirement already satisfied: pyzmq>=17 in /usr/local/lib/python3.11/dist-packages (from ipykernel>=4.5.1->ipywidgets) (24.0.1)\n",
      "Requirement already satisfied: tornado>=6.1 in /usr/local/lib/python3.11/dist-packages (from ipykernel>=4.5.1->ipywidgets) (6.4.2)\n",
      "Requirement already satisfied: setuptools>=18.5 in /usr/local/lib/python3.11/dist-packages (from ipython>=4.0.0->ipywidgets) (75.2.0)\n",
      "Collecting jedi>=0.16 (from ipython>=4.0.0->ipywidgets)\n",
      "  Downloading jedi-0.19.2-py2.py3-none-any.whl.metadata (22 kB)\n",
      "Requirement already satisfied: decorator in /usr/local/lib/python3.11/dist-packages (from ipython>=4.0.0->ipywidgets) (4.4.2)\n",
      "Requirement already satisfied: pickleshare in /usr/local/lib/python3.11/dist-packages (from ipython>=4.0.0->ipywidgets) (0.7.5)\n",
      "Requirement already satisfied: prompt-toolkit!=3.0.0,!=3.0.1,<3.1.0,>=2.0.0 in /usr/local/lib/python3.11/dist-packages (from ipython>=4.0.0->ipywidgets) (3.0.51)\n",
      "Requirement already satisfied: pygments in /usr/local/lib/python3.11/dist-packages (from ipython>=4.0.0->ipywidgets) (2.19.1)\n",
      "Requirement already satisfied: backcall in /usr/local/lib/python3.11/dist-packages (from ipython>=4.0.0->ipywidgets) (0.2.0)\n",
      "Requirement already satisfied: pexpect>4.3 in /usr/local/lib/python3.11/dist-packages (from ipython>=4.0.0->ipywidgets) (4.9.0)\n",
      "Requirement already satisfied: MarkupSafe>=2.0 in /usr/local/lib/python3.11/dist-packages (from jinja2>=2.9->folium) (3.0.2)\n",
      "Requirement already satisfied: notebook>=4.4.1 in /usr/local/lib/python3.11/dist-packages (from widgetsnbextension~=3.6.0->ipywidgets) (6.5.7)\n",
      "Requirement already satisfied: charset-normalizer<4,>=2 in /usr/local/lib/python3.11/dist-packages (from requests->folium) (3.4.2)\n",
      "Requirement already satisfied: idna<4,>=2.5 in /usr/local/lib/python3.11/dist-packages (from requests->folium) (3.10)\n",
      "Requirement already satisfied: urllib3<3,>=1.21.1 in /usr/local/lib/python3.11/dist-packages (from requests->folium) (2.4.0)\n",
      "Requirement already satisfied: certifi>=2017.4.17 in /usr/local/lib/python3.11/dist-packages (from requests->folium) (2025.4.26)\n",
      "Requirement already satisfied: parso<0.9.0,>=0.8.4 in /usr/local/lib/python3.11/dist-packages (from jedi>=0.16->ipython>=4.0.0->ipywidgets) (0.8.4)\n",
      "Requirement already satisfied: jupyter-core>=4.6.0 in /usr/local/lib/python3.11/dist-packages (from jupyter-client>=6.1.12->ipykernel>=4.5.1->ipywidgets) (5.7.2)\n",
      "Requirement already satisfied: python-dateutil>=2.1 in /usr/local/lib/python3.11/dist-packages (from jupyter-client>=6.1.12->ipykernel>=4.5.1->ipywidgets) (2.9.0.post0)\n",
      "Requirement already satisfied: argon2-cffi in /usr/local/lib/python3.11/dist-packages (from notebook>=4.4.1->widgetsnbextension~=3.6.0->ipywidgets) (23.1.0)\n",
      "Requirement already satisfied: nbformat in /usr/local/lib/python3.11/dist-packages (from notebook>=4.4.1->widgetsnbextension~=3.6.0->ipywidgets) (5.10.4)\n",
      "Requirement already satisfied: nbconvert>=5 in /usr/local/lib/python3.11/dist-packages (from notebook>=4.4.1->widgetsnbextension~=3.6.0->ipywidgets) (7.16.6)\n",
      "Requirement already satisfied: Send2Trash>=1.8.0 in /usr/local/lib/python3.11/dist-packages (from notebook>=4.4.1->widgetsnbextension~=3.6.0->ipywidgets) (1.8.3)\n",
      "Requirement already satisfied: terminado>=0.8.3 in /usr/local/lib/python3.11/dist-packages (from notebook>=4.4.1->widgetsnbextension~=3.6.0->ipywidgets) (0.18.1)\n",
      "Requirement already satisfied: prometheus-client in /usr/local/lib/python3.11/dist-packages (from notebook>=4.4.1->widgetsnbextension~=3.6.0->ipywidgets) (0.21.1)\n",
      "Requirement already satisfied: nbclassic>=0.4.7 in /usr/local/lib/python3.11/dist-packages (from notebook>=4.4.1->widgetsnbextension~=3.6.0->ipywidgets) (1.3.1)\n",
      "Requirement already satisfied: ptyprocess>=0.5 in /usr/local/lib/python3.11/dist-packages (from pexpect>4.3->ipython>=4.0.0->ipywidgets) (0.7.0)\n",
      "Requirement already satisfied: wcwidth in /usr/local/lib/python3.11/dist-packages (from prompt-toolkit!=3.0.0,!=3.0.1,<3.1.0,>=2.0.0->ipython>=4.0.0->ipywidgets) (0.2.13)\n",
      "Requirement already satisfied: platformdirs>=2.5 in /usr/local/lib/python3.11/dist-packages (from jupyter-core>=4.6.0->jupyter-client>=6.1.12->ipykernel>=4.5.1->ipywidgets) (4.3.8)\n",
      "Requirement already satisfied: notebook-shim>=0.2.3 in /usr/local/lib/python3.11/dist-packages (from nbclassic>=0.4.7->notebook>=4.4.1->widgetsnbextension~=3.6.0->ipywidgets) (0.2.4)\n",
      "Requirement already satisfied: beautifulsoup4 in /usr/local/lib/python3.11/dist-packages (from nbconvert>=5->notebook>=4.4.1->widgetsnbextension~=3.6.0->ipywidgets) (4.13.4)\n",
      "Requirement already satisfied: bleach!=5.0.0 in /usr/local/lib/python3.11/dist-packages (from bleach[css]!=5.0.0->nbconvert>=5->notebook>=4.4.1->widgetsnbextension~=3.6.0->ipywidgets) (6.2.0)\n",
      "Requirement already satisfied: defusedxml in /usr/local/lib/python3.11/dist-packages (from nbconvert>=5->notebook>=4.4.1->widgetsnbextension~=3.6.0->ipywidgets) (0.7.1)\n",
      "Requirement already satisfied: jupyterlab-pygments in /usr/local/lib/python3.11/dist-packages (from nbconvert>=5->notebook>=4.4.1->widgetsnbextension~=3.6.0->ipywidgets) (0.3.0)\n",
      "Requirement already satisfied: mistune<4,>=2.0.3 in /usr/local/lib/python3.11/dist-packages (from nbconvert>=5->notebook>=4.4.1->widgetsnbextension~=3.6.0->ipywidgets) (3.1.3)\n",
      "Requirement already satisfied: nbclient>=0.5.0 in /usr/local/lib/python3.11/dist-packages (from nbconvert>=5->notebook>=4.4.1->widgetsnbextension~=3.6.0->ipywidgets) (0.10.2)\n",
      "Requirement already satisfied: pandocfilters>=1.4.1 in /usr/local/lib/python3.11/dist-packages (from nbconvert>=5->notebook>=4.4.1->widgetsnbextension~=3.6.0->ipywidgets) (1.5.1)\n",
      "Requirement already satisfied: fastjsonschema>=2.15 in /usr/local/lib/python3.11/dist-packages (from nbformat->notebook>=4.4.1->widgetsnbextension~=3.6.0->ipywidgets) (2.21.1)\n",
      "Requirement already satisfied: jsonschema>=2.6 in /usr/local/lib/python3.11/dist-packages (from nbformat->notebook>=4.4.1->widgetsnbextension~=3.6.0->ipywidgets) (4.23.0)\n",
      "Requirement already satisfied: six>=1.5 in /usr/local/lib/python3.11/dist-packages (from python-dateutil>=2.1->jupyter-client>=6.1.12->ipykernel>=4.5.1->ipywidgets) (1.17.0)\n",
      "Requirement already satisfied: argon2-cffi-bindings in /usr/local/lib/python3.11/dist-packages (from argon2-cffi->notebook>=4.4.1->widgetsnbextension~=3.6.0->ipywidgets) (21.2.0)\n",
      "Requirement already satisfied: webencodings in /usr/local/lib/python3.11/dist-packages (from bleach!=5.0.0->bleach[css]!=5.0.0->nbconvert>=5->notebook>=4.4.1->widgetsnbextension~=3.6.0->ipywidgets) (0.5.1)\n",
      "Requirement already satisfied: tinycss2<1.5,>=1.1.0 in /usr/local/lib/python3.11/dist-packages (from bleach[css]!=5.0.0->nbconvert>=5->notebook>=4.4.1->widgetsnbextension~=3.6.0->ipywidgets) (1.4.0)\n",
      "Requirement already satisfied: attrs>=22.2.0 in /usr/local/lib/python3.11/dist-packages (from jsonschema>=2.6->nbformat->notebook>=4.4.1->widgetsnbextension~=3.6.0->ipywidgets) (25.3.0)\n",
      "Requirement already satisfied: jsonschema-specifications>=2023.03.6 in /usr/local/lib/python3.11/dist-packages (from jsonschema>=2.6->nbformat->notebook>=4.4.1->widgetsnbextension~=3.6.0->ipywidgets) (2025.4.1)\n",
      "Requirement already satisfied: referencing>=0.28.4 in /usr/local/lib/python3.11/dist-packages (from jsonschema>=2.6->nbformat->notebook>=4.4.1->widgetsnbextension~=3.6.0->ipywidgets) (0.36.2)\n",
      "Requirement already satisfied: rpds-py>=0.7.1 in /usr/local/lib/python3.11/dist-packages (from jsonschema>=2.6->nbformat->notebook>=4.4.1->widgetsnbextension~=3.6.0->ipywidgets) (0.24.0)\n",
      "Requirement already satisfied: jupyter-server<3,>=1.8 in /usr/local/lib/python3.11/dist-packages (from notebook-shim>=0.2.3->nbclassic>=0.4.7->notebook>=4.4.1->widgetsnbextension~=3.6.0->ipywidgets) (1.16.0)\n",
      "Requirement already satisfied: cffi>=1.0.1 in /usr/local/lib/python3.11/dist-packages (from argon2-cffi-bindings->argon2-cffi->notebook>=4.4.1->widgetsnbextension~=3.6.0->ipywidgets) (1.17.1)\n",
      "Requirement already satisfied: soupsieve>1.2 in /usr/local/lib/python3.11/dist-packages (from beautifulsoup4->nbconvert>=5->notebook>=4.4.1->widgetsnbextension~=3.6.0->ipywidgets) (2.7)\n",
      "Requirement already satisfied: typing-extensions>=4.0.0 in /usr/local/lib/python3.11/dist-packages (from beautifulsoup4->nbconvert>=5->notebook>=4.4.1->widgetsnbextension~=3.6.0->ipywidgets) (4.13.2)\n",
      "Requirement already satisfied: pycparser in /usr/local/lib/python3.11/dist-packages (from cffi>=1.0.1->argon2-cffi-bindings->argon2-cffi->notebook>=4.4.1->widgetsnbextension~=3.6.0->ipywidgets) (2.22)\n",
      "Requirement already satisfied: anyio>=3.1.0 in /usr/local/lib/python3.11/dist-packages (from jupyter-server<3,>=1.8->notebook-shim>=0.2.3->nbclassic>=0.4.7->notebook>=4.4.1->widgetsnbextension~=3.6.0->ipywidgets) (4.9.0)\n",
      "Requirement already satisfied: websocket-client in /usr/local/lib/python3.11/dist-packages (from jupyter-server<3,>=1.8->notebook-shim>=0.2.3->nbclassic>=0.4.7->notebook>=4.4.1->widgetsnbextension~=3.6.0->ipywidgets) (1.8.0)\n",
      "Requirement already satisfied: sniffio>=1.1 in /usr/local/lib/python3.11/dist-packages (from anyio>=3.1.0->jupyter-server<3,>=1.8->notebook-shim>=0.2.3->nbclassic>=0.4.7->notebook>=4.4.1->widgetsnbextension~=3.6.0->ipywidgets) (1.3.1)\n",
      "Downloading jedi-0.19.2-py2.py3-none-any.whl (1.6 MB)\n",
      "\u001b[2K   \u001b[90m━━━━━━━━━━━━━━━━━━━━━━━━━━━━━━━━━━━━━━━━\u001b[0m \u001b[32m1.6/1.6 MB\u001b[0m \u001b[31m6.8 MB/s\u001b[0m eta \u001b[36m0:00:00\u001b[0m\n",
      "\u001b[?25hInstalling collected packages: jedi\n",
      "Successfully installed jedi-0.19.2\n"
     ]
    }
   ],
   "source": [
    "!pip install google-cloud-storage\n",
    "!pip install folium ipywidgets"
   ]
  },
  {
   "cell_type": "code",
   "execution_count": 25,
   "metadata": {
    "id": "hay7ij5cEP9B"
   },
   "outputs": [],
   "source": [
    "from google.cloud import storage\n",
    "from google.colab import files"
   ]
  },
  {
   "cell_type": "code",
   "execution_count": null,
   "metadata": {
    "id": "tuM_emI_EUVQ"
   },
   "outputs": [],
   "source": [
    " storage_client = storage.Client()"
   ]
  },
  {
   "cell_type": "code",
   "execution_count": 24,
   "metadata": {
    "id": "YcO94k6GB1xB"
   },
   "outputs": [],
   "source": [
    "# Manipulación de datos\n",
    "import numpy as np\n",
    "import pandas as pd\n",
    "from io import BytesIO\n",
    "import os\n",
    "import folium\n",
    "from folium.plugins import MarkerCluster\n",
    "from ipywidgets import interact, widgets\n",
    "from IPython.display import display, clear_output\n",
    "\n",
    "# Visualización\n",
    "import matplotlib.pyplot as plt\n",
    "import seaborn as sns\n",
    "\n",
    "# Preprocesamiento y machine learning (scikit-learn)\n",
    "from sklearn.model_selection import train_test_split, cross_val_score\n",
    "from sklearn.preprocessing import StandardScaler, LabelEncoder\n",
    "from sklearn.metrics import classification_report, confusion_matrix, accuracy_score\n",
    "from sklearn.metrics import mean_squared_error, r2_score\n",
    "\n",
    "# Modelos supervisados más comunes\n",
    "from sklearn.linear_model import LogisticRegression\n",
    "from sklearn.tree import DecisionTreeClassifier\n",
    "from sklearn.ensemble import RandomForestClassifier\n",
    "from sklearn.svm import SVC\n",
    "from sklearn.neighbors import KNeighborsClassifier\n",
    "from sklearn.naive_bayes import GaussianNB\n",
    "from xgboost import XGBRegressor\n",
    "\n",
    "# Configuración de visualizaciones\n",
    "sns.set(style=\"whitegrid\")\n",
    "plt.rcParams[\"figure.figsize\"] = (10, 6)"
   ]
  },
  {
   "cell_type": "code",
   "execution_count": 13,
   "metadata": {
    "colab": {
     "base_uri": "https://localhost:8080/"
    },
    "id": "K-5-8Mv4Ee_i",
    "outputId": "3d0e2fce-ae5d-430b-9b22-c4311ed08ebd"
   },
   "outputs": [
    {
     "name": "stdout",
     "output_type": "stream",
     "text": [
      "     id                fecha tipo_elem  intensidad  ocupacion  carga  vmed  \\\n",
      "0  1002  2025-01-01 00:00:00       C30         216          2      0  66.0   \n",
      "1  1002  2025-01-01 00:15:00       C30          72          0      0  14.0   \n",
      "2  1002  2025-01-01 00:30:00       C30         444          2      0  69.0   \n",
      "3  1002  2025-01-01 00:45:00       C30        1260          6      0  66.0   \n",
      "4  1002  2025-01-01 01:00:00       C30        2028          7      0  66.0   \n",
      "\n",
      "  error  periodo_integracion  \n",
      "0     N                    5  \n",
      "1     N                    5  \n",
      "2     N                    5  \n",
      "3     N                    5  \n",
      "4     N                    5  \n"
     ]
    }
   ],
   "source": [
    "archivos_2025 = ['01-2025.csv', '02-2025.csv']\n",
    "\n",
    "dataframes = []\n",
    "for archivo in archivos_2025:\n",
    "    df = pd.read_csv(archivo, sep=';')  # separador ;\n",
    "    dataframes.append(df)\n",
    "\n",
    "\n",
    "df_2025 = pd.concat(dataframes, ignore_index=True)\n",
    "\n",
    "print(df_2025.head())"
   ]
  },
  {
   "cell_type": "code",
   "execution_count": 16,
   "metadata": {
    "colab": {
     "base_uri": "https://localhost:8080/"
    },
    "id": "1nPfCOImqL6E",
    "outputId": "1165c316-243e-4a7f-9328-30014057a28c"
   },
   "outputs": [
    {
     "name": "stdout",
     "output_type": "stream",
     "text": [
      "[ 1002  1003  1006 ... 10962 11105 11394]\n",
      "4725\n"
     ]
    }
   ],
   "source": [
    "# prompt: buscar los valores unicos de la columna id\n",
    "\n",
    "unique_ids = df_2025['id'].unique()\n",
    "print(unique_ids)\n",
    "count_unique_ids = len(unique_ids)\n",
    "print(count_unique_ids)\n"
   ]
  },
  {
   "cell_type": "code",
   "execution_count": 27,
   "metadata": {
    "colab": {
     "base_uri": "https://localhost:8080/"
    },
    "id": "ftBW2P3Btjyx",
    "outputId": "9e9d160b-482b-49d7-b3e2-46f62eda3aca"
   },
   "outputs": [
    {
     "name": "stdout",
     "output_type": "stream",
     "text": [
      "  tipo_elem  distrito    id cod_cent   nombre          utm_x         utm_y  \\\n",
      "0       M30       8.0  6639  PM40001  PM40001  443088.625859  4.482547e+06   \n",
      "1       M30       8.0  3797  PM40005  PM40005  443081.764312  4.482550e+06   \n",
      "2       M30       5.0  6640  PM10013  PM10013  442865.853275  4.481386e+06   \n",
      "3       M30       5.0  6642  PM10091  PM10091  442835.412762  4.480813e+06   \n",
      "4       M30       5.0  6643  PM10092  PM10092  442819.699444  4.480807e+06   \n",
      "\n",
      "   longitud    latitud  \n",
      "0 -3.671563  40.491676  \n",
      "1 -3.671644  40.491700  \n",
      "2 -3.674087  40.481200  \n",
      "3 -3.674395  40.476038  \n",
      "4 -3.674579  40.475980  \n"
     ]
    }
   ],
   "source": [
    "ubicacion_2025 = pd.read_csv('ubicacion_2025.csv', sep=';', encoding='latin-1') # Changed encoding to 'latin-1'\n",
    "\n",
    "print(ubicacion_2025.head())\n",
    "\n"
   ]
  },
  {
   "cell_type": "code",
   "execution_count": 30,
   "metadata": {
    "colab": {
     "base_uri": "https://localhost:8080/"
    },
    "id": "UnzWF5EFwjLa",
    "outputId": "5fb0ddd2-c5ee-4765-aaa5-aca343b1b294"
   },
   "outputs": [
    {
     "name": "stdout",
     "output_type": "stream",
     "text": [
      "  tipo_elem  distrito    id cod_cent   nombre          utm_x         utm_y  \\\n",
      "0       M30       8.0  6639  PM40001  PM40001  443088.625859  4.482547e+06   \n",
      "1       M30       8.0  3797  PM40005  PM40005  443081.764312  4.482550e+06   \n",
      "2       M30       5.0  6640  PM10013  PM10013  442865.853275  4.481386e+06   \n",
      "3       M30       5.0  6642  PM10091  PM10091  442835.412762  4.480813e+06   \n",
      "4       M30       5.0  6643  PM10092  PM10092  442819.699444  4.480807e+06   \n",
      "\n",
      "   longitud    latitud               zona  \n",
      "0 -3.671563  40.491676  Zona 03 (Noreste)  \n",
      "1 -3.671644  40.491700  Zona 03 (Noreste)  \n",
      "2 -3.674087  40.481200  Zona 03 (Noreste)  \n",
      "3 -3.674395  40.476038  Zona 03 (Noreste)  \n",
      "4 -3.674579  40.475980  Zona 03 (Noreste)  \n"
     ]
    }
   ],
   "source": [
    "# prompt: añdir una columna a ubicacion_2025 con la zona correspondiene:Diccionario con coordenadas de zonas\n",
    "coordenadas_zonas = { # Define the coordenadas_zonas dictionary\n",
    "    \"Zona 01 (Interior M-30)\": (40.4168, -3.7038),\n",
    "    \"Zona 02 (Sureste)\": (40.3700, -3.5800),\n",
    "    \"Zona 03 (Noreste)\": (40.5100, -3.6300),\n",
    "    \"Zona 04 (Noroeste)\": (40.4500, -3.8000),\n",
    "    \"Zona 05 (Suroeste)\": (40.3300, -3.8200)\n",
    "}\n",
    "# según sus columnas de 'longitud' y 'latitud'\n",
    "\n",
    "def asignar_zona(fila, coordenadas_zonas):\n",
    "    \"\"\"Asigna una zona a una fila del DataFrame basándose en su latitud y longitud.\"\"\"\n",
    "    latitud = fila['latitud']\n",
    "    longitud = fila['longitud']\n",
    "\n",
    "    min_distancia = float('inf')\n",
    "    zona_asignada = None\n",
    "\n",
    "    for zona, (lat_zona, lon_zona) in coordenadas_zonas.items():\n",
    "        distancia = np.sqrt((latitud - lat_zona)**2 + (longitud - lon_zona)**2)\n",
    "        if distancia < min_distancia:\n",
    "            min_distancia = distancia\n",
    "            zona_asignada = zona\n",
    "\n",
    "    return zona_asignada\n",
    "\n",
    "# Aplicar la función a cada fila del DataFrame\n",
    "ubicacion_2025['zona'] = ubicacion_2025.apply(asignar_zona, args=(coordenadas_zonas,), axis=1)\n",
    "\n",
    "print(ubicacion_2025.head())"
   ]
  },
  {
   "cell_type": "code",
   "execution_count": 36,
   "metadata": {
    "colab": {
     "base_uri": "https://localhost:8080/"
    },
    "id": "NA9CSeagwunY",
    "outputId": "d2fe3db9-2d68-4a7c-aaff-f8d64ae0a6ba"
   },
   "outputs": [
    {
     "name": "stdout",
     "output_type": "stream",
     "text": [
      "   tipo_elem  distrito     id                     zona\n",
      "0        M30       8.0   6639        Zona 03 (Noreste)\n",
      "1        M30       8.0   3797        Zona 03 (Noreste)\n",
      "2        M30       5.0   6640        Zona 03 (Noreste)\n",
      "3        M30       5.0   6642        Zona 03 (Noreste)\n",
      "4        M30       5.0   6643        Zona 03 (Noreste)\n",
      "5        M30       5.0   6644        Zona 03 (Noreste)\n",
      "6        M30       5.0   6645        Zona 03 (Noreste)\n",
      "7        M30       5.0   6646        Zona 03 (Noreste)\n",
      "8        M30       5.0   6647        Zona 03 (Noreste)\n",
      "9        M30       5.0   6648        Zona 03 (Noreste)\n",
      "10       M30       5.0   6649  Zona 01 (Interior M-30)\n",
      "11       M30       5.0   6650  Zona 01 (Interior M-30)\n",
      "12       M30       5.0   6651  Zona 01 (Interior M-30)\n",
      "13       M30       5.0   6652  Zona 01 (Interior M-30)\n",
      "14       M30       5.0   6653  Zona 01 (Interior M-30)\n",
      "15       M30       5.0   6654  Zona 01 (Interior M-30)\n",
      "16       M30       5.0   6655  Zona 01 (Interior M-30)\n",
      "17       M30       5.0   6656  Zona 01 (Interior M-30)\n",
      "18       M30       5.0   6657  Zona 01 (Interior M-30)\n",
      "19       M30       5.0  10264  Zona 01 (Interior M-30)\n",
      "20       M30       5.0   6659  Zona 01 (Interior M-30)\n",
      "21       M30       5.0   6660  Zona 01 (Interior M-30)\n",
      "22       M30       4.0  10175  Zona 01 (Interior M-30)\n",
      "23       M30       4.0  10265  Zona 01 (Interior M-30)\n",
      "24       M30       5.0   6658  Zona 01 (Interior M-30)\n",
      "25       M30       4.0   3818  Zona 01 (Interior M-30)\n",
      "26       M30       4.0   3819  Zona 01 (Interior M-30)\n",
      "27       M30       4.0   3820  Zona 01 (Interior M-30)\n",
      "28       M30       4.0   6663  Zona 01 (Interior M-30)\n",
      "29       M30       4.0   3799  Zona 01 (Interior M-30)\n",
      "30       M30       4.0   3800  Zona 01 (Interior M-30)\n",
      "31       M30       4.0   6664  Zona 01 (Interior M-30)\n",
      "32       M30       4.0   6665  Zona 01 (Interior M-30)\n",
      "33       M30       4.0   6666  Zona 01 (Interior M-30)\n",
      "34       M30       4.0   3488  Zona 01 (Interior M-30)\n",
      "35       M30       4.0   3489  Zona 01 (Interior M-30)\n",
      "36       M30       3.0   6667  Zona 01 (Interior M-30)\n",
      "37       M30       3.0   6668  Zona 01 (Interior M-30)\n",
      "38       M30       3.0   6669  Zona 01 (Interior M-30)\n",
      "39       M30       3.0   3611  Zona 01 (Interior M-30)\n",
      "40       M30       3.0   3815  Zona 01 (Interior M-30)\n",
      "41       M30       3.0   3490  Zona 01 (Interior M-30)\n",
      "42       M30       3.0   3491  Zona 01 (Interior M-30)\n",
      "43       M30       3.0   3492  Zona 01 (Interior M-30)\n",
      "44       M30       3.0   3493  Zona 01 (Interior M-30)\n",
      "45       M30       3.0   3816  Zona 01 (Interior M-30)\n",
      "46       M30       3.0   6670  Zona 01 (Interior M-30)\n",
      "47       M30       3.0   6671  Zona 01 (Interior M-30)\n",
      "48       M30       3.0   6672  Zona 01 (Interior M-30)\n",
      "49       M30       3.0   6673  Zona 01 (Interior M-30)\n"
     ]
    }
   ],
   "source": [
    "#crear un nuevo df a partir de ubicacion_2025\tcon 'tip_elem', 'distrito', 'id' y 'zona'\n",
    "\n",
    "df_ubicacion_2025 = ubicacion_2025[['tipo_elem', 'distrito', 'id', 'zona']]\n",
    "\n",
    "print(df_ubicacion_2025.head(50))"
   ]
  },
  {
   "cell_type": "code",
   "execution_count": 37,
   "metadata": {
    "colab": {
     "base_uri": "https://localhost:8080/",
     "height": 17
    },
    "id": "bXfwzKPDxeIo",
    "outputId": "5fcbfda6-d0fa-42a0-c0b3-160fbd9df906"
   },
   "outputs": [
    {
     "data": {
      "application/javascript": [
       "\n",
       "    async function download(id, filename, size) {\n",
       "      if (!google.colab.kernel.accessAllowed) {\n",
       "        return;\n",
       "      }\n",
       "      const div = document.createElement('div');\n",
       "      const label = document.createElement('label');\n",
       "      label.textContent = `Downloading \"${filename}\": `;\n",
       "      div.appendChild(label);\n",
       "      const progress = document.createElement('progress');\n",
       "      progress.max = size;\n",
       "      div.appendChild(progress);\n",
       "      document.body.appendChild(div);\n",
       "\n",
       "      const buffers = [];\n",
       "      let downloaded = 0;\n",
       "\n",
       "      const channel = await google.colab.kernel.comms.open(id);\n",
       "      // Send a message to notify the kernel that we're ready.\n",
       "      channel.send({})\n",
       "\n",
       "      for await (const message of channel.messages) {\n",
       "        // Send a message to notify the kernel that we're ready.\n",
       "        channel.send({})\n",
       "        if (message.buffers) {\n",
       "          for (const buffer of message.buffers) {\n",
       "            buffers.push(buffer);\n",
       "            downloaded += buffer.byteLength;\n",
       "            progress.value = downloaded;\n",
       "          }\n",
       "        }\n",
       "      }\n",
       "      const blob = new Blob(buffers, {type: 'application/binary'});\n",
       "      const a = document.createElement('a');\n",
       "      a.href = window.URL.createObjectURL(blob);\n",
       "      a.download = filename;\n",
       "      div.appendChild(a);\n",
       "      a.click();\n",
       "      div.remove();\n",
       "    }\n",
       "  "
      ],
      "text/plain": [
       "<IPython.core.display.Javascript object>"
      ]
     },
     "metadata": {},
     "output_type": "display_data"
    },
    {
     "data": {
      "application/javascript": [
       "download(\"download_46eba5f4-6da9-421a-840f-38e453aefbda\", \"df_ubicacion_2025.csv\", 179164)"
      ],
      "text/plain": [
       "<IPython.core.display.Javascript object>"
      ]
     },
     "metadata": {},
     "output_type": "display_data"
    }
   ],
   "source": [
    "# prompt: descargar en un .csv df_ubicacion_2025\n",
    "\n",
    "df_ubicacion_2025.to_csv('df_ubicacion_2025.csv', index=False)\n",
    "from google.colab import files\n",
    "files.download('df_ubicacion_2025.csv')\n"
   ]
  },
  {
   "cell_type": "code",
   "execution_count": 38,
   "metadata": {
    "colab": {
     "base_uri": "https://localhost:8080/"
    },
    "id": "yOs3pt0Gy-2E",
    "outputId": "ab2651ed-b248-46c4-f802-2c1c53d7eda1"
   },
   "outputs": [
    {
     "name": "stdout",
     "output_type": "stream",
     "text": [
      "     id                fecha tipo_elem_x  intensidad  ocupacion  carga  vmed  \\\n",
      "0  1002  2025-01-01 00:00:00         C30         216          2      0  66.0   \n",
      "1  1002  2025-01-01 00:15:00         C30          72          0      0  14.0   \n",
      "2  1002  2025-01-01 00:30:00         C30         444          2      0  69.0   \n",
      "3  1002  2025-01-01 00:45:00         C30        1260          6      0  66.0   \n",
      "4  1002  2025-01-01 01:00:00         C30        2028          7      0  66.0   \n",
      "\n",
      "  error  periodo_integracion tipo_elem_y  distrito                     zona  \n",
      "0     N                    5       other      10.0  Zona 01 (Interior M-30)  \n",
      "1     N                    5       other      10.0  Zona 01 (Interior M-30)  \n",
      "2     N                    5       other      10.0  Zona 01 (Interior M-30)  \n",
      "3     N                    5       other      10.0  Zona 01 (Interior M-30)  \n",
      "4     N                    5       other      10.0  Zona 01 (Interior M-30)  \n"
     ]
    }
   ],
   "source": [
    "# prompt: añadir columna 'zona' del df_ubicación_2025 al df_2025 concatenando con la id\n",
    "\n",
    "# Merge the dataframes based on the 'id' column\n",
    "df_2025 = pd.merge(df_2025, df_ubicacion_2025, on='id', how='left')\n",
    "\n",
    "print(df_2025.head())\n"
   ]
  },
  {
   "cell_type": "code",
   "execution_count": 39,
   "metadata": {
    "colab": {
     "base_uri": "https://localhost:8080/"
    },
    "id": "RAmY1zh1z3F5",
    "outputId": "beeeee55-62ee-447c-f00b-3ac53df966e3"
   },
   "outputs": [
    {
     "name": "stdout",
     "output_type": "stream",
     "text": [
      "     id                fecha tipo_elem_x  intensidad  ocupacion  carga  vmed  \\\n",
      "0  1002  2025-01-01 00:00:00         C30         216          2      0  66.0   \n",
      "1  1002  2025-01-01 00:15:00         C30          72          0      0  14.0   \n",
      "2  1002  2025-01-01 00:30:00         C30         444          2      0  69.0   \n",
      "3  1002  2025-01-01 00:45:00         C30        1260          6      0  66.0   \n",
      "4  1002  2025-01-01 01:00:00         C30        2028          7      0  66.0   \n",
      "\n",
      "                      zona  \n",
      "0  Zona 01 (Interior M-30)  \n",
      "1  Zona 01 (Interior M-30)  \n",
      "2  Zona 01 (Interior M-30)  \n",
      "3  Zona 01 (Interior M-30)  \n",
      "4  Zona 01 (Interior M-30)  \n"
     ]
    }
   ],
   "source": [
    "# prompt: eliminar columnas 'error',  'periodo_integracion',  'tipo_elem_y' y  'distrito'\n",
    "\n",
    "# Eliminar columnas especificadas\n",
    "df_2025 = df_2025.drop(columns=['error', 'periodo_integracion', 'tipo_elem_y', 'distrito'], errors='ignore')\n",
    "\n",
    "print(df_2025.head())\n"
   ]
  },
  {
   "cell_type": "code",
   "execution_count": 42,
   "metadata": {
    "colab": {
     "base_uri": "https://localhost:8080/"
    },
    "id": "ZGIrjHNt1Y0C",
    "outputId": "1cc14e7c-d422-4cc8-a8e3-8a7caeac06d4"
   },
   "outputs": [
    {
     "name": "stdout",
     "output_type": "stream",
     "text": [
      "     id       fecha tipo_elem_x  intensidad  ocupacion  carga  vmed  \\\n",
      "0  1002  2025-01-01         C30         216          2      0  66.0   \n",
      "1  1002  2025-01-01         C30          72          0      0  14.0   \n",
      "2  1002  2025-01-01         C30         444          2      0  69.0   \n",
      "3  1002  2025-01-01         C30        1260          6      0  66.0   \n",
      "4  1002  2025-01-01         C30        2028          7      0  66.0   \n",
      "\n",
      "                      zona  \n",
      "0  Zona 01 (Interior M-30)  \n",
      "1  Zona 01 (Interior M-30)  \n",
      "2  Zona 01 (Interior M-30)  \n",
      "3  Zona 01 (Interior M-30)  \n",
      "4  Zona 01 (Interior M-30)  \n"
     ]
    }
   ],
   "source": [
    "# prompt: eliminamos las horas de la columna fechas\n",
    "\n",
    "# Convert 'fecha' column to datetime objects\n",
    "df_2025['fecha'] = pd.to_datetime(df_2025['fecha'])\n",
    "\n",
    "# Extract only the date part\n",
    "df_2025['fecha'] = df_2025['fecha'].dt.date\n",
    "\n",
    "print(df_2025.head())\n"
   ]
  },
  {
   "cell_type": "code",
   "execution_count": 61,
   "metadata": {
    "colab": {
     "base_uri": "https://localhost:8080/"
    },
    "id": "LvnF4hXz6Zz5",
    "outputId": "cf94275a-39c3-4a37-f138-e45d63f29bda"
   },
   "outputs": [
    {
     "name": "stdout",
     "output_type": "stream",
     "text": [
      "        fecha  intensidad  ocupacion  carga  vmed                     zona\n",
      "0  2025-01-01         216          2      0  66.0  Zona 01 (Interior M-30)\n",
      "1  2025-01-01          72          0      0  14.0  Zona 01 (Interior M-30)\n",
      "2  2025-01-01         444          2      0  69.0  Zona 01 (Interior M-30)\n",
      "3  2025-01-01        1260          6      0  66.0  Zona 01 (Interior M-30)\n",
      "4  2025-01-01        2028          7      0  66.0  Zona 01 (Interior M-30)\n"
     ]
    }
   ],
   "source": [
    "# prompt: eliminar 'id' y 'tipo_elem_x\n",
    "\n",
    "# Eliminar columnas especificadas\n",
    "df_2025 = df_2025.drop(columns=['id', 'tipo_elem_x'], errors='ignore')\n",
    "\n",
    "print(df_2025.head())\n"
   ]
  },
  {
   "cell_type": "code",
   "execution_count": 63,
   "metadata": {
    "colab": {
     "base_uri": "https://localhost:8080/"
    },
    "id": "LJPs1Pa20NHu",
    "outputId": "778ae467-2f2f-4170-b5b4-697a64769696"
   },
   "outputs": [
    {
     "name": "stdout",
     "output_type": "stream",
     "text": [
      "                      zona       fecha  intensidad_media  intensidad_max  \\\n",
      "0  Zona 01 (Interior M-30)  2025-01-01        253.453132            6564   \n",
      "1  Zona 01 (Interior M-30)  2025-01-02        354.704248            7336   \n",
      "2  Zona 01 (Interior M-30)  2025-01-03        370.334334            7793   \n",
      "3  Zona 01 (Interior M-30)  2025-01-04        311.803418            6560   \n",
      "4  Zona 01 (Interior M-30)  2025-01-05        272.535390            5927   \n",
      "\n",
      "   intensidad_min  ocupacion_media  ocupacion_max  ocupacion_min  vmed_media  \\\n",
      "0               0         3.220079            100              0    6.064263   \n",
      "1               0         5.013018            100              0    5.773685   \n",
      "2               0         5.277064            100              0    5.831184   \n",
      "3               0         4.302878            100              0    5.971468   \n",
      "4               0         3.639043            100              0    6.044444   \n",
      "\n",
      "   vmed_max  vmed_min  \n",
      "0     117.0       0.0  \n",
      "1     109.0       0.0  \n",
      "2     108.0       0.0  \n",
      "3     111.0       0.0  \n",
      "4     112.0       0.0  \n"
     ]
    }
   ],
   "source": [
    "# prompt: crear un nuevo df calculando la intensidad media con todos los datos del\n",
    "# mismo dia y zona (dejando así solo una fila por cada fecha y zona), añadiendo columna\n",
    "# intensidad max y intesidad min y lo mismo con ocupación y vmed. Y tendremos un nuevo\n",
    "# df con zona, fecha y las columnas calculadas. Así reducimos el tamaño del dataset\n",
    "\n",
    "# Group data by 'id', 'zona', and 'fecha' and calculate aggregate statistics\n",
    "df_grouped = df_2025.groupby(['zona', 'fecha']).agg(\n",
    "    intensidad_media=('intensidad', 'mean'),\n",
    "    intensidad_max=('intensidad', 'max'),\n",
    "    intensidad_min=('intensidad', 'min'),\n",
    "    ocupacion_media=('ocupacion', 'mean'),\n",
    "    ocupacion_max=('ocupacion', 'max'),\n",
    "    ocupacion_min=('ocupacion', 'min'),\n",
    "    vmed_media=('vmed', 'mean'),\n",
    "    vmed_max=('vmed', 'max'),\n",
    "    vmed_min=('vmed', 'min')\n",
    ").reset_index()\n",
    "\n",
    "# Rename the 'tipo_elem_x' column to 'tipo_elem'\n",
    "df_grouped = df_grouped.rename(columns={'tipo_elem_x': 'tipo_elem'})\n",
    "\n",
    "print(df_grouped.head())\n",
    "\n"
   ]
  },
  {
   "cell_type": "code",
   "execution_count": 66,
   "metadata": {
    "colab": {
     "base_uri": "https://localhost:8080/"
    },
    "id": "pSLYg6xE5zcT",
    "outputId": "aff3ff47-1689-457d-d842-42240ad6b8ab"
   },
   "outputs": [
    {
     "data": {
      "text/plain": [
       "295"
      ]
     },
     "execution_count": 66,
     "metadata": {},
     "output_type": "execute_result"
    }
   ],
   "source": [
    "df_grouped.groupby(['zona', 'fecha',]).ngroups\n",
    "len(df_grouped)\n"
   ]
  },
  {
   "cell_type": "code",
   "execution_count": 67,
   "metadata": {
    "colab": {
     "base_uri": "https://localhost:8080/"
    },
    "id": "bYagngxi4WD6",
    "outputId": "23b160a4-1746-4672-8f6d-8a7fb7b1e3d8"
   },
   "outputs": [
    {
     "name": "stdout",
     "output_type": "stream",
     "text": [
      "(295, 11)\n"
     ]
    }
   ],
   "source": [
    "print(df_grouped.shape)"
   ]
  },
  {
   "cell_type": "code",
   "execution_count": 68,
   "metadata": {
    "colab": {
     "base_uri": "https://localhost:8080/"
    },
    "id": "D9KKSbSI2iax",
    "outputId": "7f0f7e03-d2d4-48d3-c17d-031653437d6f"
   },
   "outputs": [
    {
     "name": "stdout",
     "output_type": "stream",
     "text": [
      "Index(['zona', 'fecha', 'intensidad_media', 'intensidad_max', 'intensidad_min',\n",
      "       'ocupacion_media', 'ocupacion_max', 'ocupacion_min', 'vmed_media',\n",
      "       'vmed_max', 'vmed_min'],\n",
      "      dtype='object')\n",
      "zona                 object\n",
      "fecha                object\n",
      "intensidad_media    float64\n",
      "intensidad_max        int64\n",
      "intensidad_min        int64\n",
      "ocupacion_media     float64\n",
      "ocupacion_max         int64\n",
      "ocupacion_min         int64\n",
      "vmed_media          float64\n",
      "vmed_max            float64\n",
      "vmed_min            float64\n",
      "dtype: object\n",
      "       intensidad_media  intensidad_max  intensidad_min  ocupacion_media  \\\n",
      "count        295.000000      295.000000           295.0       295.000000   \n",
      "mean         313.374237     7109.661017             0.0         4.738436   \n",
      "std           68.646748     6823.628197             0.0         1.372029   \n",
      "min          170.512135     1920.000000             0.0         1.851902   \n",
      "25%          274.350247     3216.500000             0.0         3.792613   \n",
      "50%          304.376571     5929.000000             0.0         4.780692   \n",
      "75%          371.029471     7528.000000             0.0         6.076162   \n",
      "max          467.998142    68329.000000             0.0         7.425792   \n",
      "\n",
      "       ocupacion_max  ocupacion_min  vmed_media    vmed_max  vmed_min  \n",
      "count     295.000000          295.0  295.000000  295.000000     295.0  \n",
      "mean       90.325424            0.0    6.427823   87.986441       0.0  \n",
      "std        13.929214            0.0    4.355361   45.787365       0.0  \n",
      "min        32.000000            0.0    0.000000    0.000000       0.0  \n",
      "25%        88.000000            0.0    5.254163   95.000000       0.0  \n",
      "50%        95.000000            0.0    5.883830  108.000000       0.0  \n",
      "75%       100.000000            0.0    7.842840  112.000000       0.0  \n",
      "max       100.000000            0.0   15.040192  237.000000       0.0  \n"
     ]
    }
   ],
   "source": [
    "\n",
    "print(df_grouped.columns)\n",
    "print(df_grouped.dtypes)\n",
    "print(df_grouped.describe())"
   ]
  },
  {
   "cell_type": "code",
   "execution_count": 69,
   "metadata": {
    "colab": {
     "base_uri": "https://localhost:8080/"
    },
    "id": "7MbcCk3i234Q",
    "outputId": "7eba8be0-a1f9-4007-ba0d-24039ceac2cc"
   },
   "outputs": [
    {
     "name": "stdout",
     "output_type": "stream",
     "text": [
      "                        zona       fecha  intensidad_media  intensidad_max  \\\n",
      "0    Zona 01 (Interior M-30)  2025-01-01        253.453132            6564   \n",
      "1    Zona 01 (Interior M-30)  2025-01-02        354.704248            7336   \n",
      "2    Zona 01 (Interior M-30)  2025-01-03        370.334334            7793   \n",
      "3    Zona 01 (Interior M-30)  2025-01-04        311.803418            6560   \n",
      "4    Zona 01 (Interior M-30)  2025-01-05        272.535390            5927   \n",
      "..                       ...         ...               ...             ...   \n",
      "195       Zona 04 (Noroeste)  2025-01-19        273.412981            5252   \n",
      "196       Zona 04 (Noroeste)  2025-01-20        383.706430            5573   \n",
      "197       Zona 04 (Noroeste)  2025-01-21        388.766866            5901   \n",
      "198       Zona 04 (Noroeste)  2025-01-22        397.197571            6684   \n",
      "199       Zona 04 (Noroeste)  2025-01-23        409.636034            6045   \n",
      "\n",
      "     intensidad_min  ocupacion_media  ocupacion_max  ocupacion_min  \\\n",
      "0                 0         3.220079            100              0   \n",
      "1                 0         5.013018            100              0   \n",
      "2                 0         5.277064            100              0   \n",
      "3                 0         4.302878            100              0   \n",
      "4                 0         3.639043            100              0   \n",
      "..              ...              ...            ...            ...   \n",
      "195               0         3.958887             80              0   \n",
      "196               0         6.395178             98              0   \n",
      "197               0         6.451613             90              0   \n",
      "198               0         6.653090             90              0   \n",
      "199               0         6.426466             92              0   \n",
      "\n",
      "     vmed_media  vmed_max  vmed_min  \n",
      "0      6.064263     117.0       0.0  \n",
      "1      5.773685     109.0       0.0  \n",
      "2      5.831184     108.0       0.0  \n",
      "3      5.971468     111.0       0.0  \n",
      "4      6.044444     112.0       0.0  \n",
      "..          ...       ...       ...  \n",
      "195   15.040192     112.0       0.0  \n",
      "196   13.487084     105.0       0.0  \n",
      "197   13.124610     107.0       0.0  \n",
      "198   13.336935     105.0       0.0  \n",
      "199   13.751496     106.0       0.0  \n",
      "\n",
      "[200 rows x 11 columns]\n"
     ]
    }
   ],
   "source": [
    "print(df_grouped.head(200))"
   ]
  },
  {
   "cell_type": "code",
   "execution_count": 70,
   "metadata": {
    "colab": {
     "base_uri": "https://localhost:8080/",
     "height": 17
    },
    "id": "5i7l-dB_7b0t",
    "outputId": "307d2d98-9462-4228-8033-62ebc6067735"
   },
   "outputs": [
    {
     "data": {
      "application/javascript": [
       "\n",
       "    async function download(id, filename, size) {\n",
       "      if (!google.colab.kernel.accessAllowed) {\n",
       "        return;\n",
       "      }\n",
       "      const div = document.createElement('div');\n",
       "      const label = document.createElement('label');\n",
       "      label.textContent = `Downloading \"${filename}\": `;\n",
       "      div.appendChild(label);\n",
       "      const progress = document.createElement('progress');\n",
       "      progress.max = size;\n",
       "      div.appendChild(progress);\n",
       "      document.body.appendChild(div);\n",
       "\n",
       "      const buffers = [];\n",
       "      let downloaded = 0;\n",
       "\n",
       "      const channel = await google.colab.kernel.comms.open(id);\n",
       "      // Send a message to notify the kernel that we're ready.\n",
       "      channel.send({})\n",
       "\n",
       "      for await (const message of channel.messages) {\n",
       "        // Send a message to notify the kernel that we're ready.\n",
       "        channel.send({})\n",
       "        if (message.buffers) {\n",
       "          for (const buffer of message.buffers) {\n",
       "            buffers.push(buffer);\n",
       "            downloaded += buffer.byteLength;\n",
       "            progress.value = downloaded;\n",
       "          }\n",
       "        }\n",
       "      }\n",
       "      const blob = new Blob(buffers, {type: 'application/binary'});\n",
       "      const a = document.createElement('a');\n",
       "      a.href = window.URL.createObjectURL(blob);\n",
       "      a.download = filename;\n",
       "      div.appendChild(a);\n",
       "      a.click();\n",
       "      div.remove();\n",
       "    }\n",
       "  "
      ],
      "text/plain": [
       "<IPython.core.display.Javascript object>"
      ]
     },
     "metadata": {},
     "output_type": "display_data"
    },
    {
     "data": {
      "application/javascript": [
       "download(\"download_7807ef7e-dd60-4cfe-b2b9-b8f52855b33b\", \"trafico_zonas_2025.csv\", 31000)"
      ],
      "text/plain": [
       "<IPython.core.display.Javascript object>"
      ]
     },
     "metadata": {},
     "output_type": "display_data"
    }
   ],
   "source": [
    "# prompt: Descargar df_grouped como trafico_zonas_2025.csv\n",
    "\n",
    "df_grouped.to_csv('trafico_zonas_2025.csv', index=False)\n",
    "files.download('trafico_zonas_2025.csv')\n"
   ]
  }
 ],
 "metadata": {
  "colab": {
   "provenance": []
  },
  "kernelspec": {
   "display_name": "Python 3 (ipykernel)",
   "language": "python",
   "name": "python3"
  },
  "language_info": {
   "codemirror_mode": {
    "name": "ipython",
    "version": 3
   },
   "file_extension": ".py",
   "mimetype": "text/x-python",
   "name": "python",
   "nbconvert_exporter": "python",
   "pygments_lexer": "ipython3",
   "version": "3.11.7"
  }
 },
 "nbformat": 4,
 "nbformat_minor": 4
}

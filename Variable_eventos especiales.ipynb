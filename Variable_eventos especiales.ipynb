{
 "cells": [
  {
   "cell_type": "markdown",
   "id": "0353aeaf-8a3d-4f1a-b294-b7b6645aa98e",
   "metadata": {},
   "source": [
    "# Creación de la Variable “Evento Especial” para el Análisis de Tráfico y Contaminación en Madrid\n",
    "\n",
    "**Contexto y Objetivo**\n",
    "La movilidad urbana y la calidad del aire en Madrid pueden verse alteradas por la celebración de eventos especiales (conciertos, partidos, manifestaciones, etc.).\n",
    "El objetivo de este notebook es crear una variable binaria que identifique los días con eventos relevantes, para analizar su impacto en el tráfico y la contaminación, y facilitar su uso en modelos predictivos.\n",
    "\n",
    "**Metodología**\n",
    "- Generar un DataFrame con todas las fechas del periodo de estudio (2021-01-01 a 2025-03-31).\n",
    "- Identificar los días en los que se celebraron eventos especiales en Madrid, utilizando fuentes oficiales y portales de eventos.\n",
    "- Crear una columna binaria (evento_especial) que marque con 1 los días con evento y con 0 el resto.\n",
    "- Exportar la variable para su integración en el dataset de modelado."
   ]
  },
  {
   "cell_type": "markdown",
   "id": "c27194cd-1911-49c1-ab09-8a876e8255c7",
   "metadata": {},
   "source": [
    "# 1. Generar un DataFrame con todas las fechas del periodo de estudio (2021-01-01 a 2025-03-31)."
   ]
  },
  {
   "cell_type": "code",
   "execution_count": 5,
   "id": "0eff12b6-6172-42f9-847a-33a92745bba1",
   "metadata": {},
   "outputs": [
    {
     "data": {
      "text/html": [
       "<div>\n",
       "<style scoped>\n",
       "    .dataframe tbody tr th:only-of-type {\n",
       "        vertical-align: middle;\n",
       "    }\n",
       "\n",
       "    .dataframe tbody tr th {\n",
       "        vertical-align: top;\n",
       "    }\n",
       "\n",
       "    .dataframe thead th {\n",
       "        text-align: right;\n",
       "    }\n",
       "</style>\n",
       "<table border=\"1\" class=\"dataframe\">\n",
       "  <thead>\n",
       "    <tr style=\"text-align: right;\">\n",
       "      <th></th>\n",
       "      <th>fecha</th>\n",
       "    </tr>\n",
       "  </thead>\n",
       "  <tbody>\n",
       "    <tr>\n",
       "      <th>0</th>\n",
       "      <td>2021-01-01</td>\n",
       "    </tr>\n",
       "    <tr>\n",
       "      <th>1</th>\n",
       "      <td>2021-01-02</td>\n",
       "    </tr>\n",
       "    <tr>\n",
       "      <th>2</th>\n",
       "      <td>2021-01-03</td>\n",
       "    </tr>\n",
       "    <tr>\n",
       "      <th>3</th>\n",
       "      <td>2021-01-04</td>\n",
       "    </tr>\n",
       "    <tr>\n",
       "      <th>4</th>\n",
       "      <td>2021-01-05</td>\n",
       "    </tr>\n",
       "  </tbody>\n",
       "</table>\n",
       "</div>"
      ],
      "text/plain": [
       "       fecha\n",
       "0 2021-01-01\n",
       "1 2021-01-02\n",
       "2 2021-01-03\n",
       "3 2021-01-04\n",
       "4 2021-01-05"
      ]
     },
     "execution_count": 5,
     "metadata": {},
     "output_type": "execute_result"
    }
   ],
   "source": [
    "import pandas as pd\n",
    "\n",
    "# Definir el rango de fechas\n",
    "fechas = pd.date_range(start='2021-01-01', end='2025-03-31', freq='D')\n",
    "\n",
    "# Crear el DataFrame\n",
    "df_eventos = pd.DataFrame({'fecha': fechas})\n",
    "\n",
    "# Visualizar las primeras filas\n",
    "df_eventos.head()"
   ]
  },
  {
   "cell_type": "markdown",
   "id": "7d870bdf-e9d8-40a6-960f-fc3e5e6b31c2",
   "metadata": {},
   "source": [
    "# 2. Identificación y codificación de eventos especiales"
   ]
  },
  {
   "cell_type": "code",
   "execution_count": 7,
   "id": "e2d25b87-5f21-44cb-88b4-d70191f682df",
   "metadata": {},
   "outputs": [
    {
     "data": {
      "text/html": [
       "<div>\n",
       "<style scoped>\n",
       "    .dataframe tbody tr th:only-of-type {\n",
       "        vertical-align: middle;\n",
       "    }\n",
       "\n",
       "    .dataframe tbody tr th {\n",
       "        vertical-align: top;\n",
       "    }\n",
       "\n",
       "    .dataframe thead th {\n",
       "        text-align: right;\n",
       "    }\n",
       "</style>\n",
       "<table border=\"1\" class=\"dataframe\">\n",
       "  <thead>\n",
       "    <tr style=\"text-align: right;\">\n",
       "      <th></th>\n",
       "      <th>fecha</th>\n",
       "      <th>evento_especial</th>\n",
       "    </tr>\n",
       "  </thead>\n",
       "  <tbody>\n",
       "    <tr>\n",
       "      <th>512</th>\n",
       "      <td>2022-05-28</td>\n",
       "      <td>1</td>\n",
       "    </tr>\n",
       "    <tr>\n",
       "      <th>890</th>\n",
       "      <td>2023-06-10</td>\n",
       "      <td>1</td>\n",
       "    </tr>\n",
       "    <tr>\n",
       "      <th>1162</th>\n",
       "      <td>2024-03-08</td>\n",
       "      <td>1</td>\n",
       "    </tr>\n",
       "  </tbody>\n",
       "</table>\n",
       "</div>"
      ],
      "text/plain": [
       "          fecha  evento_especial\n",
       "512  2022-05-28                1\n",
       "890  2023-06-10                1\n",
       "1162 2024-03-08                1"
      ]
     },
     "execution_count": 7,
     "metadata": {},
     "output_type": "execute_result"
    }
   ],
   "source": [
    "# Ejemplo de fechas de eventos especiales\n",
    "fechas_eventos = [\n",
    "    '2022-05-28',  # Final de la Champions League en Madrid\n",
    "    '2023-06-10',  # Concierto multitudinario en el Wanda\n",
    "    '2024-03-08',  # Manifestación Día de la Mujer\n",
    "    # Añade más fechas según vayas recopilando eventos\n",
    "]\n",
    "\n",
    "# Asegúrate de que las fechas están en formato datetime\n",
    "fechas_eventos = pd.to_datetime(fechas_eventos)\n",
    "\n",
    "# Crea la columna binaria en el DataFrame\n",
    "df_eventos['evento_especial'] = df_eventos['fecha'].isin(fechas_eventos).astype(int)\n",
    "\n",
    "# Visualiza las primeras filas donde hay evento especial\n",
    "df_eventos[df_eventos['evento_especial'] == 1]"
   ]
  },
  {
   "cell_type": "code",
   "execution_count": 8,
   "id": "c701e760-568d-4fc3-b95e-e16ee72460da",
   "metadata": {},
   "outputs": [],
   "source": [
    "fechas_eventos = [\n",
    "    # Partidos Real Madrid (ejemplo)\n",
    "    '2024-01-14', '2024-02-04', '2024-02-18', '2024-03-10', '2024-03-31', '2024-04-21', '2024-05-05', '2024-05-19',\n",
    "    # Partidos Atlético de Madrid (ejemplo)\n",
    "    '2024-01-21', '2024-02-11', '2024-02-25', '2024-03-17', '2024-04-14', '2024-04-28', '2024-05-12', '2024-05-26',\n",
    "    # FITUR 2025 (22 al 26 de enero)\n",
    "    '2025-01-22', '2025-01-23', '2025-01-24', '2025-01-25', '2025-01-26',\n",
    "    # San Isidro 2025 (6 al 15 de mayo)\n",
    "    '2025-05-06', '2025-05-07', '2025-05-08', '2025-05-09', '2025-05-10',\n",
    "    '2025-05-11', '2025-05-12', '2025-05-13', '2025-05-14', '2025-05-15',\n",
    "    # Conciertos 2024\n",
    "    '2024-05-29',  # Taylor Swift\n",
    "    '2024-07-23',  # Karol G\n",
    "    '2024-06-12', '2024-06-14', '2024-06-17',  # Bruce Springsteen\n",
    "    # Cabalgata de Reyes (siempre 5 de enero)\n",
    "    '2021-01-05', '2022-01-05', '2023-01-05', '2024-01-05', '2025-01-05',\n",
    "    # Desfile 12 de octubre\n",
    "    '2021-10-12', '2022-10-12', '2023-10-12', '2024-10-12',\n",
    "    # Hispanidad 2023 (Puerta de Alcalá, ejemplo 12 de octubre)\n",
    "    '2023-10-12'\n",
    "]"
   ]
  },
  {
   "cell_type": "code",
   "execution_count": 9,
   "id": "e124e91d-3af9-4973-b775-fbce90545797",
   "metadata": {},
   "outputs": [
    {
     "data": {
      "text/html": [
       "<div>\n",
       "<style scoped>\n",
       "    .dataframe tbody tr th:only-of-type {\n",
       "        vertical-align: middle;\n",
       "    }\n",
       "\n",
       "    .dataframe tbody tr th {\n",
       "        vertical-align: top;\n",
       "    }\n",
       "\n",
       "    .dataframe thead th {\n",
       "        text-align: right;\n",
       "    }\n",
       "</style>\n",
       "<table border=\"1\" class=\"dataframe\">\n",
       "  <thead>\n",
       "    <tr style=\"text-align: right;\">\n",
       "      <th></th>\n",
       "      <th>fecha</th>\n",
       "      <th>evento_especial</th>\n",
       "    </tr>\n",
       "  </thead>\n",
       "  <tbody>\n",
       "    <tr>\n",
       "      <th>4</th>\n",
       "      <td>2021-01-05</td>\n",
       "      <td>1</td>\n",
       "    </tr>\n",
       "    <tr>\n",
       "      <th>284</th>\n",
       "      <td>2021-10-12</td>\n",
       "      <td>1</td>\n",
       "    </tr>\n",
       "    <tr>\n",
       "      <th>369</th>\n",
       "      <td>2022-01-05</td>\n",
       "      <td>1</td>\n",
       "    </tr>\n",
       "    <tr>\n",
       "      <th>649</th>\n",
       "      <td>2022-10-12</td>\n",
       "      <td>1</td>\n",
       "    </tr>\n",
       "    <tr>\n",
       "      <th>734</th>\n",
       "      <td>2023-01-05</td>\n",
       "      <td>1</td>\n",
       "    </tr>\n",
       "    <tr>\n",
       "      <th>1014</th>\n",
       "      <td>2023-10-12</td>\n",
       "      <td>1</td>\n",
       "    </tr>\n",
       "    <tr>\n",
       "      <th>1099</th>\n",
       "      <td>2024-01-05</td>\n",
       "      <td>1</td>\n",
       "    </tr>\n",
       "    <tr>\n",
       "      <th>1108</th>\n",
       "      <td>2024-01-14</td>\n",
       "      <td>1</td>\n",
       "    </tr>\n",
       "    <tr>\n",
       "      <th>1115</th>\n",
       "      <td>2024-01-21</td>\n",
       "      <td>1</td>\n",
       "    </tr>\n",
       "    <tr>\n",
       "      <th>1129</th>\n",
       "      <td>2024-02-04</td>\n",
       "      <td>1</td>\n",
       "    </tr>\n",
       "  </tbody>\n",
       "</table>\n",
       "</div>"
      ],
      "text/plain": [
       "          fecha  evento_especial\n",
       "4    2021-01-05                1\n",
       "284  2021-10-12                1\n",
       "369  2022-01-05                1\n",
       "649  2022-10-12                1\n",
       "734  2023-01-05                1\n",
       "1014 2023-10-12                1\n",
       "1099 2024-01-05                1\n",
       "1108 2024-01-14                1\n",
       "1115 2024-01-21                1\n",
       "1129 2024-02-04                1"
      ]
     },
     "execution_count": 9,
     "metadata": {},
     "output_type": "execute_result"
    }
   ],
   "source": [
    "# Asegúrate de que las fechas están en formato datetime\n",
    "fechas_eventos = pd.to_datetime(fechas_eventos)\n",
    "\n",
    "# Crea la columna binaria en el DataFrame\n",
    "df_eventos['evento_especial'] = df_eventos['fecha'].isin(fechas_eventos).astype(int)\n",
    "\n",
    "# Visualiza algunos días con evento especial\n",
    "df_eventos[df_eventos['evento_especial'] == 1].head(10)"
   ]
  },
  {
   "cell_type": "markdown",
   "id": "38a63d56-19f3-4cc6-94e7-c5a4a3f6627f",
   "metadata": {},
   "source": [
    "En este apartado se han recopilado fechas de eventos especiales en Madrid entre 2021 y 2025, incluyendo:\n",
    "- Partidos de fútbol de Real Madrid y Atlético de Madrid jugados en casa.\n",
    "- Grandes conciertos y festivales (Taylor Swift, Karol G, Bruce Springsteen, etc.).\n",
    "- Ferias y celebraciones multitudinarias (FITUR, San Isidro).\n",
    "- Eventos tradicionales y sociales (Cabalgata de Reyes, Desfile del 12 de octubre, Hispanidad).\n",
    "\n",
    "Estas fechas se han marcado en la variable binaria evento_especial, que toma valor 1 en los días con evento y 0 en el resto.\n",
    "Esta variable permitirá analizar el impacto de los eventos multitudinarios sobre el tráfico y la contaminación en la ciudad, y servirá como predictor en modelos de calidad del aire."
   ]
  },
  {
   "cell_type": "markdown",
   "id": "d2272212-0bfc-4bbb-95da-5f98162b7c12",
   "metadata": {},
   "source": [
    "# 3. Comparación de dataframe \"evento_especial\" y los de tráfico"
   ]
  },
  {
   "cell_type": "code",
   "execution_count": 12,
   "id": "463b64f4-95d6-4150-942b-93ccce85d80a",
   "metadata": {},
   "outputs": [],
   "source": [
    "import pandas as pd\n",
    "\n",
    "# Carga el DataFrame de tráfico general\n",
    "df_trafico = pd.read_csv('/Users/maruxamoreiraperez/Desktop/EscritorioMaru/Cursos/MacAir_Data Science /01_CAPSTONE/DataSets/Tráfico/trafico_diario_2020_2025_completo.csv')\n",
    "df_dif = pd.read_csv('/Users/maruxamoreiraperez/Desktop/EscritorioMaru/Cursos/MacAir_Data Science /01_CAPSTONE/notebooks/diferencia dentro-fuera/variable_diferencia_trafico.csv')\n",
    "\n",
    "\n",
    "df_trafico['fecha'] = pd.to_datetime(df_trafico['fecha_solo'])\n",
    "df_dif = df_dif.rename(columns={'fecha_solo': 'fecha'})\n",
    "df_dif['fecha'] = pd.to_datetime(df_dif['fecha'])\n",
    "df_eventos['fecha'] = pd.to_datetime(df_eventos['fecha'])\n"
   ]
  },
  {
   "cell_type": "code",
   "execution_count": 13,
   "id": "9e9e4b49-1319-40d5-868f-dbc109c8aee4",
   "metadata": {},
   "outputs": [],
   "source": [
    "# Para el DataFrame de tráfico general\n",
    "df_trafico['fecha'] = pd.to_datetime(df_trafico['fecha_solo'])\n",
    "\n",
    "# Para el DataFrame de diferencia de tráfico\n",
    "df_dif = df_dif.rename(columns={'fecha_solo': 'fecha'})\n",
    "df_dif['fecha'] = pd.to_datetime(df_dif['fecha'])\n",
    "\n",
    "# Para el DataFrame de eventos especiales (ya lo tienes en memoria)\n",
    "df_eventos['fecha'] = pd.to_datetime(df_eventos['fecha'])"
   ]
  },
  {
   "cell_type": "code",
   "execution_count": 14,
   "id": "d243c1b9-7e39-4b1f-a305-60b33aa7d44c",
   "metadata": {},
   "outputs": [],
   "source": [
    "# Une tráfico general y diferencia de tráfico\n",
    "df_merged = df_trafico.merge(df_dif[['fecha', 'diferencia_trafico_en_zbe_centro']], on='fecha', how='left')\n",
    "\n",
    "# Une el resultado con eventos especiales\n",
    "df_merged = df_merged.merge(df_eventos[['fecha', 'evento_especial']], on='fecha', how='left')\n",
    "\n",
    "# Rellena los NaN de evento_especial con 0\n",
    "df_merged['evento_especial'] = df_merged['evento_especial'].fillna(0).astype(int)"
   ]
  },
  {
   "cell_type": "code",
   "execution_count": 15,
   "id": "52219c68-573e-448d-b82c-66ce743744b3",
   "metadata": {},
   "outputs": [
    {
     "name": "stdout",
     "output_type": "stream",
     "text": [
      "   fecha_solo  intensidad_mean  intensidad_max  vmed_mean  vmed_min  index  \\\n",
      "0  2020-01-01       281.166043         18894.0   7.391596       0.0    NaN   \n",
      "1  2020-01-02       404.124843         10573.0   6.964013       0.0    NaN   \n",
      "2  2020-01-03       423.367766         31499.0   7.039604       0.0    NaN   \n",
      "3  2020-01-04       340.237585         24511.0   7.487159       0.0    NaN   \n",
      "4  2020-01-05       304.821849         30156.0   7.404632       0.0    NaN   \n",
      "\n",
      "       fecha intensidad intensidad.1 vmed vmed.1  \n",
      "0 2020-01-01        NaN          NaN  NaN    NaN  \n",
      "1 2020-01-02        NaN          NaN  NaN    NaN  \n",
      "2 2020-01-03        NaN          NaN  NaN    NaN  \n",
      "3 2020-01-04        NaN          NaN  NaN    NaN  \n",
      "4 2020-01-05        NaN          NaN  NaN    NaN  \n",
      "       fecha  diferencia_trafico_en_zbe_centro\n",
      "0 2021-01-01                        -26.105985\n",
      "1 2021-01-02                        -11.997573\n",
      "2 2021-01-03                        -22.420765\n",
      "3 2021-01-04                        -29.789424\n",
      "4 2021-01-05                        -51.884582\n",
      "       fecha  evento_especial\n",
      "0 2021-01-01                0\n",
      "1 2021-01-02                0\n",
      "2 2021-01-03                0\n",
      "3 2021-01-04                0\n",
      "4 2021-01-05                1\n"
     ]
    }
   ],
   "source": [
    "print(df_trafico.head())\n",
    "print(df_dif.head())\n",
    "print(df_eventos.head())"
   ]
  },
  {
   "cell_type": "code",
   "execution_count": 16,
   "id": "36c6fe6b-81ac-4a1a-9bf0-24bdf0556d0f",
   "metadata": {},
   "outputs": [],
   "source": [
    "columnas_a_eliminar = ['index', 'intensidad', 'intensidad.1', 'vmed', 'vmed.1']\n",
    "df_trafico = df_trafico.drop(columns=columnas_a_eliminar, errors='ignore')\n",
    "df_dif = df_dif.drop(columns=columnas_a_eliminar, errors='ignore')\n",
    "df_eventos = df_eventos.drop(columns=columnas_a_eliminar, errors='ignore')"
   ]
  },
  {
   "cell_type": "code",
   "execution_count": 17,
   "id": "166a1085-931e-40ef-aee9-f436aa12ea01",
   "metadata": {},
   "outputs": [
    {
     "name": "stdout",
     "output_type": "stream",
     "text": [
      "   fecha_solo  intensidad_mean  intensidad_max  vmed_mean  vmed_min      fecha\n",
      "0  2020-01-01       281.166043         18894.0   7.391596       0.0 2020-01-01\n",
      "1  2020-01-02       404.124843         10573.0   6.964013       0.0 2020-01-02\n",
      "2  2020-01-03       423.367766         31499.0   7.039604       0.0 2020-01-03\n",
      "3  2020-01-04       340.237585         24511.0   7.487159       0.0 2020-01-04\n",
      "4  2020-01-05       304.821849         30156.0   7.404632       0.0 2020-01-05\n",
      "       fecha  diferencia_trafico_en_zbe_centro\n",
      "0 2021-01-01                        -26.105985\n",
      "1 2021-01-02                        -11.997573\n",
      "2 2021-01-03                        -22.420765\n",
      "3 2021-01-04                        -29.789424\n",
      "4 2021-01-05                        -51.884582\n",
      "       fecha  evento_especial\n",
      "0 2021-01-01                0\n",
      "1 2021-01-02                0\n",
      "2 2021-01-03                0\n",
      "3 2021-01-04                0\n",
      "4 2021-01-05                1\n"
     ]
    }
   ],
   "source": [
    "print(df_trafico.head())\n",
    "print(df_dif.head())\n",
    "print(df_eventos.head())"
   ]
  },
  {
   "cell_type": "code",
   "execution_count": 18,
   "id": "f1523fb8-b23c-46ea-87dd-c4fa6d18c481",
   "metadata": {},
   "outputs": [
    {
     "name": "stdout",
     "output_type": "stream",
     "text": [
      "   fecha_solo  intensidad_mean  intensidad_max  vmed_mean  vmed_min  \\\n",
      "0  2020-01-01       281.166043         18894.0   7.391596       0.0   \n",
      "1  2020-01-02       404.124843         10573.0   6.964013       0.0   \n",
      "2  2020-01-03       423.367766         31499.0   7.039604       0.0   \n",
      "3  2020-01-04       340.237585         24511.0   7.487159       0.0   \n",
      "4  2020-01-05       304.821849         30156.0   7.404632       0.0   \n",
      "\n",
      "       fecha  diferencia_trafico_en_zbe_centro  evento_especial  \n",
      "0 2020-01-01                               NaN                0  \n",
      "1 2020-01-02                               NaN                0  \n",
      "2 2020-01-03                               NaN                0  \n",
      "3 2020-01-04                               NaN                0  \n",
      "4 2020-01-05                               NaN                0  \n"
     ]
    }
   ],
   "source": [
    "# Asegúrate de que las fechas están en formato datetime\n",
    "df_trafico['fecha'] = pd.to_datetime(df_trafico['fecha_solo'])\n",
    "df_dif = df_dif.rename(columns={'fecha_solo': 'fecha'})\n",
    "df_dif['fecha'] = pd.to_datetime(df_dif['fecha'])\n",
    "df_eventos['fecha'] = pd.to_datetime(df_eventos['fecha'])\n",
    "\n",
    "# Elimina columnas innecesarias si existen\n",
    "columnas_a_eliminar = ['index', 'intensidad', 'intensidad.1', 'vmed', 'vmed.1']\n",
    "df_trafico = df_trafico.drop(columns=columnas_a_eliminar, errors='ignore')\n",
    "df_dif = df_dif.drop(columns=columnas_a_eliminar, errors='ignore')\n",
    "df_eventos = df_eventos.drop(columns=columnas_a_eliminar, errors='ignore')\n",
    "\n",
    "# Merge de los tres DataFrames\n",
    "df_merged = df_trafico.merge(df_dif[['fecha', 'diferencia_trafico_en_zbe_centro']], on='fecha', how='left')\n",
    "df_merged = df_merged.merge(df_eventos[['fecha', 'evento_especial']], on='fecha', how='left')\n",
    "\n",
    "# Rellena los NaN de evento_especial con 0 y asegúrate de que es int\n",
    "df_merged['evento_especial'] = df_merged['evento_especial'].fillna(0).astype(int)\n",
    "\n",
    "# Visualiza el resultado\n",
    "print(df_merged.head())"
   ]
  },
  {
   "cell_type": "code",
   "execution_count": 19,
   "id": "0b2f58f4-dd50-475e-ba58-907315a6f4a8",
   "metadata": {},
   "outputs": [
    {
     "name": "stdout",
     "output_type": "stream",
     "text": [
      "     fecha_solo  intensidad_mean  intensidad_max  vmed_mean  vmed_min  \\\n",
      "366  2021-01-01       194.689233          8546.0   6.732974       0.0   \n",
      "367  2021-01-02       265.648404          6052.0   6.665527       0.0   \n",
      "368  2021-01-03       242.256863          6205.0   6.652449       0.0   \n",
      "369  2021-01-04       388.316857          7499.0   6.883087       0.0   \n",
      "370  2021-01-05       378.525010          7744.0   6.537822       0.0   \n",
      "\n",
      "         fecha  diferencia_trafico_en_zbe_centro  evento_especial  \n",
      "366 2021-01-01                        -26.105985                0  \n",
      "367 2021-01-02                        -11.997573                0  \n",
      "368 2021-01-03                        -22.420765                0  \n",
      "369 2021-01-04                        -29.789424                0  \n",
      "370 2021-01-05                        -51.884582                1  \n"
     ]
    }
   ],
   "source": [
    "# Elimina las filas del año 2020\n",
    "df_merged = df_merged[df_merged['fecha'].dt.year > 2020]\n",
    "\n",
    "# Visualiza el resultado\n",
    "print(df_merged.head())"
   ]
  },
  {
   "cell_type": "code",
   "execution_count": 20,
   "id": "02890160-d755-4df9-8b04-07a683948b17",
   "metadata": {},
   "outputs": [],
   "source": [
    "df_merged.to_csv('dataframe_final_para_modelado.csv', index=False)"
   ]
  },
  {
   "cell_type": "markdown",
   "id": "8b17796e-bea4-4107-9375-23544144567c",
   "metadata": {},
   "source": [
    "## 4. Relación entre eventos especiales e intensidad del tráfico\n",
    "\n",
    "Diferentes estudios han demostrado que existe una fuerte correlación entre la intensidad del tráfico y los niveles de NO₂ en entornos urbanos. Por ejemplo, el informe de la Agencia Europea de Medio Ambiente (EEA, 2019) y trabajos como “Traffic-related air pollution and NO₂” (EEA, 2018) muestran que el tráfico rodado es la principal fuente de emisiones de NO₂ en las ciudades europeas. Además, estudios específicos para Madrid, como el de Borge et al. (2018, Atmospheric Environment), confirman esta relación directa entre el volumen de tráfico y la concentración de NO₂.\n",
    "\n",
    "Por tanto, si se observa un aumento significativo del tráfico en los días con eventos especiales, es razonable esperar también un impacto en la calidad del aire. En esta sección, analizamos si los días con evento especial presentan una mayor intensidad de tráfico respecto a los días sin evento.\n",
    "\n",
    "https://www.miteco.gob.es/es/calidad-y-evaluacion-ambiental/temas/atmosfera-y-calidad-del-aire/glosario-de-terminos/glosario-contaminantes/oxidos-nitrogeno.html\n",
    "https://www.ecologistasenaccion.org/308909/ecologistas-en-accion-denuncian-la-contaminacion-de-dioxido-de-nitrogeno-no2-del-trafico-en-la-ciudad-de-murcia/"
   ]
  },
  {
   "cell_type": "code",
   "execution_count": 22,
   "id": "c8b6de64-8432-4402-9348-08099dc2f6f9",
   "metadata": {},
   "outputs": [
    {
     "name": "stdout",
     "output_type": "stream",
     "text": [
      "Media de intensidad de tráfico en días con evento especial: 312.56\n",
      "Media de intensidad de tráfico en días sin evento especial: 350.84\n",
      "p-valor del test t: 0.0005\n"
     ]
    },
    {
     "data": {
      "image/png": "[encoded data removed]",
      "text/plain": [
       "<Figure size 640x480 with 1 Axes>"
      ]
     },
     "metadata": {},
     "output_type": "display_data"
    }
   ],
   "source": [
    "# Comparar la media de intensidad de tráfico en días con y sin evento especial\n",
    "media_evento = df_merged[df_merged['evento_especial'] == 1]['intensidad_mean'].mean()\n",
    "media_no_evento = df_merged[df_merged['evento_especial'] == 0]['intensidad_mean'].mean()\n",
    "\n",
    "print(f\"Media de intensidad de tráfico en días con evento especial: {media_evento:.2f}\")\n",
    "print(f\"Media de intensidad de tráfico en días sin evento especial: {media_no_evento:.2f}\")\n",
    "\n",
    "# Test t para ver si la diferencia es significativa\n",
    "from scipy.stats import ttest_ind\n",
    "\n",
    "t_stat, p_val = ttest_ind(\n",
    "    df_merged[df_merged['evento_especial'] == 1]['intensidad_mean'],\n",
    "    df_merged[df_merged['evento_especial'] == 0]['intensidad_mean'],\n",
    "    equal_var=False\n",
    ")\n",
    "print(f\"p-valor del test t: {p_val:.4f}\")\n",
    "\n",
    "# Boxplot para visualizar la diferencia\n",
    "import seaborn as sns\n",
    "import matplotlib.pyplot as plt\n",
    "\n",
    "sns.boxplot(x='evento_especial', y='intensidad_mean', data=df_merged)\n",
    "plt.xlabel('Evento especial (0=No, 1=Sí)')\n",
    "plt.ylabel('Intensidad media de tráfico')\n",
    "plt.title('Intensidad de tráfico según evento especial')\n",
    "plt.show()"
   ]
  },
  {
   "cell_type": "markdown",
   "id": "99fd5db5-edaf-44ae-a5c8-251b1ec76252",
   "metadata": {},
   "source": [
    "Los resultados muestran que la media de la intensidad de tráfico en días con evento especial es de 312,56, mientras que en días sin evento especial es de 350,84. El test t de diferencia de medias arroja un p-valor de 0,0005, lo que indica que la diferencia es estadísticamente significativa.\n",
    "\n",
    "Sorprendentemente, en este periodo y para este conjunto de eventos, la intensidad media de tráfico es menor en los días con evento especial que en los días sin evento. Esto puede deberse a restricciones de tráfico, desvíos, o a que muchos eventos se celebran en días festivos o fines de semana, cuando el tráfico general es menor. Este resultado invita a un análisis más detallado por tipo de evento, localización o día de la semana.\n",
    "\n",
    "En cualquier caso, la variable evento_especial sigue siendo relevante para el modelado, ya que recoge alteraciones en la movilidad urbana que pueden afectar a la calidad del aire."
   ]
  },
  {
   "cell_type": "code",
   "execution_count": 24,
   "id": "29dc30bf-54cd-4e8b-aaca-f72bb954c0d7",
   "metadata": {},
   "outputs": [
    {
     "name": "stdout",
     "output_type": "stream",
     "text": [
      "evento_especial           0           1\n",
      "dia_semana                             \n",
      "Friday           383.989215  383.493490\n",
      "Monday           363.675446  397.143397\n",
      "Saturday         295.727860  274.742888\n",
      "Sunday           262.767908  282.191692\n",
      "Thursday         386.060757  324.255916\n",
      "Tuesday          377.573015  339.991894\n",
      "Wednesday        381.904600  360.462865\n"
     ]
    },
    {
     "data": {
      "image/png": "[encoded data removed]",
      "text/plain": [
       "<Figure size 640x480 with 1 Axes>"
      ]
     },
     "metadata": {},
     "output_type": "display_data"
    }
   ],
   "source": [
    "# Añade columna con el día de la semana\n",
    "df_merged['dia_semana'] = df_merged['fecha'].dt.day_name()\n",
    "\n",
    "# Tabla resumen: media de intensidad por evento y día de la semana\n",
    "tabla = df_merged.groupby(['dia_semana', 'evento_especial'])['intensidad_mean'].mean().unstack()\n",
    "print(tabla)\n",
    "\n",
    "# Visualización\n",
    "import matplotlib.pyplot as plt\n",
    "tabla.plot(kind='bar')\n",
    "plt.ylabel('Intensidad media de tráfico')\n",
    "plt.title('Intensidad media de tráfico por día de la semana y evento especial')\n",
    "plt.legend(['Sin evento', 'Con evento'])\n",
    "plt.show()"
   ]
  },
  {
   "cell_type": "markdown",
   "id": "7c4de642-84a6-4426-90a7-1962395da20b",
   "metadata": {},
   "source": [
    "El análisis de la intensidad media de tráfico en función de la presencia de eventos especiales y el día de la semana revela patrones interesantes y coherentes con la realidad social y laboral de Madrid. En los días laborables, especialmente los lunes y viernes, la implantación del teletrabajo en los últimos años ha contribuido a una reducción general del tráfico rodado, ya que muchas personas optan por trabajar desde casa en estos días. \n",
    "\n",
    "Sin embargo, cuando coinciden con la celebración de eventos especiales, se observa que la intensidad de tráfico puede aumentar, compensando en parte el efecto reductor del teletrabajo. Esto sugiere que los eventos multitudinarios tienen capacidad para alterar los patrones habituales de movilidad, incluso en contextos de menor actividad laboral presencial.\n",
    "\n",
    "Por otro lado, durante los fines de semana, cuando la actividad laboral es mucho menor y el tráfico suele ser más bajo, la celebración de eventos especiales parece contrarrestar parcialmente esta reducción, manteniendo o incluso elevando la intensidad de tráfico respecto a un fin de semana típico. Este comportamiento puede estar relacionado tanto con el atractivo de los eventos como con posibles refuerzos en el transporte público y restricciones de tráfico en el entorno de los recintos, lo que modifica la distribución habitual de la movilidad urbana.\n",
    "En conjunto, estos resultados justifican plenamente la inclusión de la variable evento_especial como predictor en los modelos de calidad del aire, ya que recoge alteraciones significativas en la movilidad que no pueden explicarse únicamente por el calendario laboral o la estacionalidad. \n",
    "\n",
    "Además, la interpretación de los resultados debe tener en cuenta tanto los cambios normativos (como el teletrabajo) como las estrategias de gestión de la movilidad implementadas por las autoridades municipales en respuesta a la celebración de grandes eventos.\n",
    "\n",
    "Según un estudio de la Universidad Politécnica de Madrid, la implantación del teletrabajo en la Comunidad de Madrid ha supuesto una reducción significativa de los desplazamientos al trabajo, estimando una disminución de hasta un 10% en los viajes laborales. Además, diversos análisis de movilidad urbana y datos del Ayuntamiento de Madrid muestran que los viernes, día preferido para el teletrabajo, el tráfico rodado y las retenciones han descendido notablemente respecto a los niveles prepandemia, con hasta 20 km menos de atascos en las primeras horas del día (El Mundo, 2023; UPM, 2023).\n",
    "https://www.elmundo.es/madrid/2023/04/24/64450216e4d4d886258b458b.html\n",
    "\n",
    "En la Comunidad de Madrid, el porcentaje de teletrabajadores alcanza el 25,5%, el valor más alto de España y muy por encima de la media nacional.\n",
    "https://www.equiposytalento.com/noticias/2025/04/09/el-teletrabajo-volvio-a-aumentar-en-espana-en-2024-pero-sigue-lejos-de-la-media-europea"
   ]
  },
  {
   "cell_type": "code",
   "execution_count": 44,
   "id": "8c03ecdd-9d2f-4964-b48a-dc0d68d3b7c8",
   "metadata": {},
   "outputs": [],
   "source": [
    "if 'fecha_solo' in df_merged.columns:\n",
    "    df_merged = df_merged.drop(columns=['fecha_solo'])\n",
    "\n",
    "# df_merged = df_merged.rename(columns={'nombre_columna_actual': 'fecha'})\n",
    "\n",
    "# Guarda el DataFrame limpio\n",
    "df_merged.to_csv('dataframe_final_para_modelado.csv', index=False)"
   ]
  },
  {
   "cell_type": "code",
   "execution_count": 46,
   "id": "7da311e4-4186-4345-8ce2-b2edf87af747",
   "metadata": {},
   "outputs": [],
   "source": [
    "# Pon 'fecha' como primera columna\n",
    "columnas = ['fecha'] + [col for col in df_merged.columns if col != 'fecha']\n",
    "df_merged = df_merged[columnas]\n",
    "\n",
    "# Guarda el DataFrame limpio y ordenado\n",
    "df_merged.to_csv('dataframe_final_para_modelado.csv', index=False)"
   ]
  },
  {
   "cell_type": "code",
   "execution_count": null,
   "id": "6d2ea7ea-be2d-4911-8793-b3ea3d22d45d",
   "metadata": {},
   "outputs": [],
   "source": []
  }
 ],
 "metadata": {
  "kernelspec": {
   "display_name": "Python 3 (ipykernel)",
   "language": "python",
   "name": "python3"
  },
  "language_info": {
   "codemirror_mode": {
    "name": "ipython",
    "version": 3
   },
   "file_extension": ".py",
   "mimetype": "text/x-python",
   "name": "python",
   "nbconvert_exporter": "python",
   "pygments_lexer": "ipython3",
   "version": "3.11.7"
  }
 },
 "nbformat": 4,
 "nbformat_minor": 5
}

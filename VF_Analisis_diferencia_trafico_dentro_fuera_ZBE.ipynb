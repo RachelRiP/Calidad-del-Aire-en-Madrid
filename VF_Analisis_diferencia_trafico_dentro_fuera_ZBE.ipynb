{
 "cells": [
  {
   "cell_type": "markdown",
   "id": "01efc3fb-020c-4249-a0be-3d9d2ae12444",
   "metadata": {},
   "source": [
    "# Creación de la Variable “Diferencia de Tráfico” entre Zonas Dentro y Fuera de la ZBE\n",
    "\n",
    "## Contexto y Objetivo\n",
    "\n",
    "Creación de una variable innovadora para el análisis del impacto de las Zonas de Bajas Emisiones (ZBE) en Madrid: la diferencia diaria de tráfico entre estaciones situadas dentro y fuera de la ZBE. Esta variable permitirá analizar si la implantación de la ZBE provoca un desplazamiento del tráfico y, potencialmente, de la contaminación hacia zonas limítrofes.\n",
    "\n",
    "**Objetivo:**  \n",
    "Crear una variable diaria que refleje la diferencia de tráfico entre estaciones dentro y fuera de la ZBE, para su uso como variable predictora en modelos de calidad del aire."
   ]
  },
  {
   "cell_type": "code",
   "execution_count": 3,
   "id": "c3054bd4-7778-4ec3-925e-ea6615643224",
   "metadata": {},
   "outputs": [],
   "source": [
    "# Importaciones básicas\n",
    "import pandas as pd\n",
    "import numpy as np\n",
    "import matplotlib.pyplot as plt\n",
    "# import seaborn as sns  # Comentado por ahora\n",
    "\n",
    "# Configuración básica de gráficos\n",
    "plt.style.use('default')  # Usamos el estilo por defecto de matplotlib\n",
    "# sns.set_palette(\"husl\")  # Comentado por ahora\n",
    "\n",
    "# Configuración de pandas para mostrar todas las columnas\n",
    "pd.set_option('display.max_columns', None)\n",
    "\n",
    "# Configuración para ignorar warnings molestos\n",
    "import warnings\n",
    "warnings.filterwarnings('ignore')"
   ]
  },
  {
   "cell_type": "code",
   "execution_count": 25,
   "id": "2e20d201-3525-4aa0-a303-127d3fa8bb72",
   "metadata": {},
   "outputs": [
    {
     "data": {
      "text/html": [
       "<div>\n",
       "<style scoped>\n",
       "    .dataframe tbody tr th:only-of-type {\n",
       "        vertical-align: middle;\n",
       "    }\n",
       "\n",
       "    .dataframe tbody tr th {\n",
       "        vertical-align: top;\n",
       "    }\n",
       "\n",
       "    .dataframe thead th {\n",
       "        text-align: right;\n",
       "    }\n",
       "</style>\n",
       "<table border=\"1\" class=\"dataframe\">\n",
       "  <thead>\n",
       "    <tr style=\"text-align: right;\">\n",
       "      <th></th>\n",
       "      <th>fecha_solo</th>\n",
       "      <th>intensidad_mean</th>\n",
       "      <th>intensidad_max</th>\n",
       "      <th>vmed_mean</th>\n",
       "      <th>vmed_min</th>\n",
       "    </tr>\n",
       "  </thead>\n",
       "  <tbody>\n",
       "    <tr>\n",
       "      <th>0</th>\n",
       "      <td>2024-01-01</td>\n",
       "      <td>232.110162</td>\n",
       "      <td>6269</td>\n",
       "      <td>6.046687</td>\n",
       "      <td>0.0</td>\n",
       "    </tr>\n",
       "    <tr>\n",
       "      <th>1</th>\n",
       "      <td>2024-01-02</td>\n",
       "      <td>323.761436</td>\n",
       "      <td>11244</td>\n",
       "      <td>5.680850</td>\n",
       "      <td>0.0</td>\n",
       "    </tr>\n",
       "    <tr>\n",
       "      <th>2</th>\n",
       "      <td>2024-01-03</td>\n",
       "      <td>345.140912</td>\n",
       "      <td>48840</td>\n",
       "      <td>5.616502</td>\n",
       "      <td>0.0</td>\n",
       "    </tr>\n",
       "    <tr>\n",
       "      <th>3</th>\n",
       "      <td>2024-01-04</td>\n",
       "      <td>354.376267</td>\n",
       "      <td>54242</td>\n",
       "      <td>5.563690</td>\n",
       "      <td>0.0</td>\n",
       "    </tr>\n",
       "    <tr>\n",
       "      <th>4</th>\n",
       "      <td>2024-01-05</td>\n",
       "      <td>345.367104</td>\n",
       "      <td>7280</td>\n",
       "      <td>5.719347</td>\n",
       "      <td>0.0</td>\n",
       "    </tr>\n",
       "  </tbody>\n",
       "</table>\n",
       "</div>"
      ],
      "text/plain": [
       "   fecha_solo  intensidad_mean  intensidad_max  vmed_mean  vmed_min\n",
       "0  2024-01-01       232.110162            6269   6.046687       0.0\n",
       "1  2024-01-02       323.761436           11244   5.680850       0.0\n",
       "2  2024-01-03       345.140912           48840   5.616502       0.0\n",
       "3  2024-01-04       354.376267           54242   5.563690       0.0\n",
       "4  2024-01-05       345.367104            7280   5.719347       0.0"
      ]
     },
     "execution_count": 25,
     "metadata": {},
     "output_type": "execute_result"
    }
   ],
   "source": [
    "df_trafico = pd.read_csv('/Users/maruxamoreiraperez/Desktop/EscritorioMaru/Cursos/MacAir_Data Science /01_CAPSTONE/DataSets/Tráfico/trafico_diario_completo.csv', sep=',')\n",
    "df_trafico.head()"
   ]
  },
  {
   "cell_type": "code",
   "execution_count": null,
   "id": "27c82e7d-ed5c-4704-bfc5-d6092bfd469c",
   "metadata": {},
   "outputs": [
    {
     "name": "stdout",
     "output_type": "stream",
     "text": [
      "Archivos encontrados: 36\n",
      "['/Users/maruxamoreiraperez/Desktop/EscritorioMaru/Cursos/MacAir_Data Science /01_CAPSTONE/csvs trafico bruto/Trafico/trafico_2021/01-2021.csv', '/Users/maruxamoreiraperez/Desktop/EscritorioMaru/Cursos/MacAir_Data Science /01_CAPSTONE/csvs trafico bruto/Trafico/trafico_2021/11-2021.csv', '/Users/maruxamoreiraperez/Desktop/EscritorioMaru/Cursos/MacAir_Data Science /01_CAPSTONE/csvs trafico bruto/Trafico/trafico_2021/10-2021.csv', '/Users/maruxamoreiraperez/Desktop/EscritorioMaru/Cursos/MacAir_Data Science /01_CAPSTONE/csvs trafico bruto/Trafico/trafico_2021/06-2021.csv', '/Users/maruxamoreiraperez/Desktop/EscritorioMaru/Cursos/MacAir_Data Science /01_CAPSTONE/csvs trafico bruto/Trafico/trafico_2021/07-2021.csv']\n"
     ]
    }
   ],
   "source": [
    "import pandas as pd\n",
    "import glob\n",
    "import os\n",
    "\n",
    "# Ruta a la carpeta principal de tráfico\n",
    "carpeta = '/Users/maruxamoreiraperez/Desktop/EscritorioMaru/Cursos/MacAir_Data Science /01_CAPSTONE/csvs trafico bruto/Trafico/'\n",
    "\n",
    "# Buscar todos los archivos CSV en todas las subcarpetas\n",
    "archivos_csv = glob.glob(os.path.join(carpeta, '**', '*.csv'), recursive=True)\n",
    "\n",
    "print(\"Archivos encontrados:\", len(archivos_csv))\n",
    "print(archivos_csv[:5])  # Muestra los primeros 5 para comprobar\n",
    "\n",
    "# Lista para guardar los DataFrames\n",
    "lista_df = []\n",
    "\n",
    "# Leer y unir todos los archivos\n",
    "for archivo in archivos_csv:\n",
    "    df_temp = pd.read_csv(archivo, sep=';')  # Cambia el separador si es necesario\n",
    "    lista_df.append(df_temp)\n",
    "\n",
    "# Unir todos los DataFrames en uno solo\n",
    "df_trafico_bruto = pd.concat(lista_df, ignore_index=True)\n",
    "\n",
    "# Mostrar las primeras filas para comprobar\n",
    "df_trafico_bruto.head()"
   ]
  },
  {
   "cell_type": "code",
   "execution_count": null,
   "id": "32f00f72-1f2a-4420-a116-3ed8d40f92bd",
   "metadata": {},
   "outputs": [],
   "source": [
    "# Convertir la columna 'fecha' a tipo datetime y extraer solo la fecha\n",
    "df_trafico_bruto['fecha'] = pd.to_datetime(df_trafico_bruto['fecha'])\n",
    "df_trafico_bruto['fecha_solo'] = df_trafico_bruto['fecha'].dt.date"
   ]
  },
  {
   "cell_type": "code",
   "execution_count": null,
   "id": "e9be1021-61b2-4c78-9207-86c883e35a63",
   "metadata": {},
   "outputs": [],
   "source": [
    "# Calcular la media diaria de tráfico por estación\n",
    "df_trafico_diario = df_trafico_bruto.groupby(['id', 'fecha_solo'])['intensidad'].mean().reset_index()\n",
    "df_trafico_diario = df_trafico_diario.rename(columns={'intensidad': 'intensidad_mean'})\n",
    "df_trafico_diario.head()"
   ]
  },
  {
   "cell_type": "markdown",
   "id": "781a5b21-1734-4024-bc87-3401cd178aa2",
   "metadata": {},
   "source": [
    "# 1. Identificación y clasificación de estaciones de tráfico según su localización respecto a la ZBE\n",
    "\n",
    "Para poder calcular la diferencia diaria de tráfico entre zonas dentro y fuera de la ZBE, primero es \n",
    "imprescindible identificar y clasificar cada punto de medición según su localización geográfica: si \n",
    "está dentro o fuera de la ZBE."
   ]
  },
  {
   "cell_type": "markdown",
   "id": "5ee7fe07-e1c0-4028-849a-c6449b5c9efe",
   "metadata": {},
   "source": [
    "## 1.1. Exploración de los datos de ubicación de estaciones"
   ]
  },
  {
   "cell_type": "code",
   "execution_count": null,
   "id": "fbfd2d05-c5e4-4ab8-8d95-e9d3b1a5b03f",
   "metadata": {},
   "outputs": [],
   "source": [
    "# Cargar el fichero de ubicación de estaciones (ajusta la ruta si es necesario)\n",
    "df_ubicacion = pd.read_csv('/Users/maruxamoreiraperez/Desktop/EscritorioMaru/Cursos/MacAir_Data Science /01_CAPSTONE/DataSets/ubicacion estaciones/pmed_ubicacion_02-2025.csv', sep=';', encoding='latin1')\n",
    "# Visualizar las primeras filas y las columnas clave\n",
    "df_ubicacion[['id', 'nombre', 'longitud', 'latitud']].head()"
   ]
  },
  {
   "cell_type": "markdown",
   "id": "20457e90-7738-49b2-91c5-95d65ba939fd",
   "metadata": {},
   "source": [
    "## 1.2. Clasificación de las estaciones como \"dentro\" o \"fuera\" de la ZBE"
   ]
  },
  {
   "cell_type": "code",
   "execution_count": null,
   "id": "2057f0c5-43e5-48e3-b03b-434984c5c4dc",
   "metadata": {},
   "outputs": [],
   "source": [
    "!conda install shapely -y"
   ]
  },
  {
   "cell_type": "code",
   "execution_count": null,
   "id": "87869c4a-a536-4dd5-8d39-b248fb804c74",
   "metadata": {},
   "outputs": [],
   "source": [
    "# Definir los polígonos aproximados de las ZBE \n",
    "from shapely.geometry import Point, Polygon\n",
    "\n",
    "# ZBE Centro (coordenadas aproximadas)\n",
    "zbe_centro_coords = [\n",
    "    (-3.703790, 40.420000),\n",
    "    (-3.695000, 40.420000),\n",
    "    (-3.695000, 40.430000),\n",
    "    (-3.703790, 40.430000)\n",
    "]\n",
    "zbe_centro = Polygon(zbe_centro_coords)\n",
    "\n",
    "# ZBE Plaza Elíptica (coordenadas aproximadas)\n",
    "zbe_eliptica_coords = [\n",
    "    (-3.710000, 40.385000),\n",
    "    (-3.698000, 40.385000),\n",
    "    (-3.698000, 40.395000),\n",
    "    (-3.710000, 40.395000)\n",
    "]\n",
    "zbe_eliptica = Polygon(zbe_eliptica_coords)\n",
    "\n",
    "# Madrid ZBE (zona general, polígono muy amplio y aproximado)\n",
    "madrid_zbe_coords = [\n",
    "    (-3.750000, 40.370000),\n",
    "    (-3.650000, 40.370000),\n",
    "    (-3.650000, 40.480000),\n",
    "    (-3.750000, 40.480000)\n",
    "]\n",
    "madrid_zbe = Polygon(madrid_zbe_coords)\n",
    "\n",
    "# Funciones para comprobar si una estación está dentro de cada polígono\n",
    "def esta_en_zbe_centro(lon, lat):\n",
    "    return zbe_centro.contains(Point(lon, lat))\n",
    "\n",
    "def esta_en_zbe_eliptica(lon, lat):\n",
    "    return zbe_eliptica.contains(Point(lon, lat))\n",
    "\n",
    "def esta_en_madrid_zbe(lon, lat):\n",
    "    return madrid_zbe.contains(Point(lon, lat))\n",
    "\n",
    "# Aplicar las funciones a cada estación\n",
    "df_ubicacion['en_zbe_centro'] = df_ubicacion.apply(lambda row: esta_en_zbe_centro(row['longitud'], row['latitud']), axis=1)\n",
    "df_ubicacion['en_zbe_eliptica'] = df_ubicacion.apply(lambda row: esta_en_zbe_eliptica(row['longitud'], row['latitud']), axis=1)\n",
    "df_ubicacion['en_madrid_zbe'] = df_ubicacion.apply(lambda row: esta_en_madrid_zbe(row['longitud'], row['latitud']), axis=1)\n",
    "\n",
    "# Visualizar el resultado\n",
    "df_ubicacion[['id', 'nombre', 'longitud', 'latitud', 'en_zbe_centro', 'en_zbe_eliptica', 'en_madrid_zbe']].head()"
   ]
  },
  {
   "cell_type": "markdown",
   "id": "b6e27f09-f92b-4959-9c25-2438f467f346",
   "metadata": {},
   "source": [
    "## 1.3. Creación de la variable: diferencia diaria de tráfico entre estaciones dentro/fuera de cada ZBE"
   ]
  },
  {
   "cell_type": "code",
   "execution_count": null,
   "id": "b1ac5b86-d679-4c1b-9c23-8e8d9e5c398c",
   "metadata": {},
   "outputs": [],
   "source": [
    "# Unimos la información de ubicación (con las columnas de ZBE) al DataFrame de tráfico diario\n",
    "df_trafico_diario = df_trafico_diario.merge(\n",
    "    df_ubicacion[['id', 'en_zbe_centro', 'en_zbe_eliptica', 'en_madrid_zbe']],\n",
    "    on='id', how='left'\n",
    ")\n",
    "\n",
    "# Rellenar los NaN de las columnas de ZBE con False\n",
    "for col in ['en_zbe_centro', 'en_zbe_eliptica', 'en_madrid_zbe']:\n",
    "    df_trafico_diario[col] = df_trafico_diario[col].fillna(False)\n",
    "\n",
    "# ¿Hay estaciones dentro de la ZBE en 2024?\n",
    "print(df_trafico_diario[(df_trafico_diario['en_zbe_centro'] == True) & (df_trafico_diario['fecha_solo'].astype(str).str.startswith('2024'))])\n",
    "\n",
    "# Función para calcular la diferencia diaria de tráfico para una zona\n",
    "def calcular_diferencia_trafico(df, columna_zbe):\n",
    "    trafico_dentro = df[df[columna_zbe]].groupby('fecha_solo')['intensidad_mean'].mean()\n",
    "    trafico_fuera = df[~df[columna_zbe]].groupby('fecha_solo')['intensidad_mean'].mean()\n",
    "    df_dif = pd.DataFrame({\n",
    "        f'trafico_dentro_{columna_zbe}': trafico_dentro,\n",
    "        f'trafico_fuera_{columna_zbe}': trafico_fuera\n",
    "    })\n",
    "    df_dif[f'diferencia_trafico_{columna_zbe}'] = df_dif[f'trafico_dentro_{columna_zbe}'] - df_dif[f'trafico_fuera_{columna_zbe}']\n",
    "    return df_dif\n",
    "\n",
    "# Calculamos la variable para cada zona\n",
    "dif_centro = calcular_diferencia_trafico(df_trafico_diario, 'en_zbe_centro')\n",
    "dif_eliptica = calcular_diferencia_trafico(df_trafico_diario, 'en_zbe_eliptica')\n",
    "dif_madrid_zbe = calcular_diferencia_trafico(df_trafico_diario, 'en_madrid_zbe')\n",
    "\n",
    "# Visualizamos el resultado para la ZBE Centro\n",
    "dif_centro.head()"
   ]
  },
  {
   "cell_type": "markdown",
   "id": "d8cef362-4434-4f61-b49d-5e686223265d",
   "metadata": {},
   "source": [
    "## 1.4. Análisis y visualización de la variable “Diferencia de Tráfico”\n",
    "\n",
    "Análisis y visualización de la evolución temporal de la diferencia diaria de tráfico entre \n",
    "estaciones situadas dentro y fuera de la ZBE. El objetivo es identificar patrones, tendencias \n",
    "y posibles efectos frontera asociados a la implantación de las Zonas de Bajas Emisiones en Madrid."
   ]
  },
  {
   "cell_type": "code",
   "execution_count": null,
   "id": "829757b4-484b-4b41-934d-54381f3aa6c1",
   "metadata": {},
   "outputs": [],
   "source": [
    "import matplotlib.pyplot as plt\n",
    "\n",
    "plt.figure(figsize=(12, 5))\n",
    "dif_centro['diferencia_trafico_en_zbe_centro'].plot()\n",
    "plt.title('Diferencia diaria de tráfico (dentro - fuera) en ZBE Centro')\n",
    "plt.xlabel('Fecha')\n",
    "plt.ylabel('Diferencia de tráfico')\n",
    "plt.axhline(0, color='red', linestyle='--', alpha=0.7)\n",
    "plt.tight_layout()\n",
    "plt.show()"
   ]
  },
  {
   "cell_type": "markdown",
   "id": "612d0021-db45-40c0-93ca-5d516f665ec1",
   "metadata": {},
   "source": [
    "Eje Y (vertical):\n",
    "Es la diferencia diaria de tráfico entre estaciones “dentro” y “fuera” de la ZBE Centro.\n",
    "- Si el valor es positivo, significa que el tráfico medio dentro de la ZBE Centro es mayor que fuera.\n",
    "- Si el valor es negativo, significa que el tráfico medio dentro de la ZBE Centro es menor que fuera."
   ]
  },
  {
   "cell_type": "code",
   "execution_count": null,
   "id": "19ab68a6-1af8-4acb-abb5-d336277f8ae0",
   "metadata": {},
   "outputs": [],
   "source": [
    "# Media móvil de 30 días\n",
    "plt.figure(figsize=(12, 5))\n",
    "dif_centro['diferencia_trafico_en_zbe_centro'].rolling(window=30).mean().plot()\n",
    "plt.title('Diferencia diaria de tráfico (media móvil 30 días) en ZBE Centro')\n",
    "plt.xlabel('Fecha')\n",
    "plt.ylabel('Diferencia de tráfico (media móvil)')\n",
    "plt.axhline(0, color='red', linestyle='--', alpha=0.7)\n",
    "plt.tight_layout()\n",
    "plt.show()\n",
    "\n",
    "# Resumen mensual\n",
    "dif_centro.index = pd.to_datetime(dif_centro.index)\n",
    "\n",
    "plt.figure(figsize=(12, 5))\n",
    "dif_centro['diferencia_trafico_en_zbe_centro'].resample('M').mean().plot()\n",
    "plt.title('Diferencia mensual de tráfico (media mensual) en ZBE Centro')\n",
    "plt.xlabel('Fecha')\n",
    "plt.ylabel('Diferencia de tráfico (media mensual)')\n",
    "plt.axhline(0, color='red', linestyle='--', alpha=0.7)\n",
    "plt.tight_layout()\n",
    "plt.show()"
   ]
  },
  {
   "cell_type": "markdown",
   "id": "3adaebc0-60fa-4b5e-b982-6e36226b9b67",
   "metadata": {},
   "source": [
    "### Interpretación de la Evolución de la Diferencia de Tráfico “Dentro vs. Fuera” de las ZBE (2021-2024)\n",
    "\n",
    "La evolución temporal de la variable “Diferencia de Tráfico” muestra varios patrones y rupturas que pueden explicarse por el contexto normativo y social de Madrid en los últimos años:\n",
    "\n",
    "- **2020-2021: Impacto de la pandemia COVID-19**\n",
    "  - Durante 2020 y buena parte de 2021, Madrid (como el resto de España) estuvo sometida a fuertes restricciones de movilidad, incluyendo confinamientos domiciliarios, limitaciones de desplazamiento entre Comunidades Autónomas y toques de queda.\n",
    "  - Según informes oficiales del Ayuntamiento de Madrid y la DGT, el tráfico rodado descendió drásticamente, llegando a reducirse hasta un 80% en los momentos más estrictos del confinamiento (marzo-mayo 2020) y manteniéndose por debajo de los niveles prepandemia durante meses posteriores.\n",
    "  - Estas restricciones afectaron tanto a las zonas dentro como fuera de la ZBE, homogeneizando el tráfico y reduciendo la diferencia entre ambas áreas.\n",
    "  - Referencia: [Informe DGT sobre movilidad 2020](https://www.dgt.es/comunicacion/noticias/2021/Informe-movilidad-2020/)\n",
    "\n",
    "- **2022: Implementación de nuevas Zonas de Bajas Emisiones**\n",
    "  - En diciembre de 2021 se puso en marcha la ZBEDEP Plaza Elíptica, y a lo largo de 2022 se amplió la ZBE a todo el municipio de Madrid, restringiendo progresivamente la circulación de vehículos sin distintivo ambiental (etiqueta A).\n",
    "  - Estas medidas provocaron cambios en los patrones de tráfico, especialmente en los accesos y límites de las nuevas zonas reguladas, lo que se refleja en la gráfica como un aumento puntual de la diferencia de tráfico (más tráfico relativo fuera de la ZBE, posiblemente por efecto frontera o desvíos).\n",
    "  - Referencia: [Ayuntamiento de Madrid - Zonas de Bajas Emisiones](https://www.madrid.es/portales/munimadrid/es/Inicio/Movilidad-y-transportes/Zonas-de-Bajas-Emisiones/)\n",
    " \n",
    "La variable “Diferencia de Tráfico” refleja fielmente el impacto de las políticas públicas y los eventos excepcionales sobre la movilidad urbana. Los picos y valles observados no solo responden a la implantación de las ZBE, sino también a factores externos como la pandemia de COVID-19 y las restricciones asociadas. Este análisis aporta valor añadido al contextualizar los datos y permite interpretar correctamente los resultados en modelos predictivos de calidad del aire."
   ]
  },
  {
   "cell_type": "markdown",
   "id": "9e51143c-1344-40ba-96fc-959b99b511e4",
   "metadata": {},
   "source": [
    "# 2. Análisis exploratorio y visualización avanzada de la variable dentro/fuera"
   ]
  },
  {
   "cell_type": "markdown",
   "id": "d16433fb-5654-4577-b171-7f60e19714a4",
   "metadata": {},
   "source": [
    "## 2.1. Distribución y outliers"
   ]
  },
  {
   "cell_type": "code",
   "execution_count": null,
   "id": "6eb03a11-63cf-4111-8277-f0d2243c00d2",
   "metadata": {},
   "outputs": [],
   "source": [
    "import matplotlib.pyplot as plt\n",
    "import seaborn as sns\n",
    "\n",
    "plt.figure(figsize=(12,5))\n",
    "sns.histplot(dif_centro['diferencia_trafico_en_zbe_centro'], bins=30, kde=True, color='royalblue')\n",
    "plt.title('Distribución de la diferencia diaria de tráfico (dentro vs. fuera ZBE Centro)')\n",
    "plt.xlabel('Diferencia de tráfico')\n",
    "plt.ylabel('Frecuencia')\n",
    "plt.show()\n",
    "\n",
    "plt.figure(figsize=(8,4))\n",
    "sns.boxplot(x=dif_centro['diferencia_trafico_en_zbe_centro'], color='orange')\n",
    "plt.title('Boxplot de la diferencia diaria de tráfico')\n",
    "plt.xlabel('Diferencia de tráfico')\n",
    "plt.show()"
   ]
  },
  {
   "cell_type": "markdown",
   "id": "6972b526-ba3d-4693-afd0-9a656b4154fb",
   "metadata": {},
   "source": [
    "Las gráficas muestran la distribución y los valores atípicos de la variable “diferencia diaria de tráfico” entre estaciones situadas dentro y fuera de la ZBE Centro de Madrid:\n",
    "\n",
    "- **Distribución**: La variable presenta una distribución aproximadamente normal, aunque ligeramente sesgada hacia valores negativos. Esto indica que, en la mayoría de los días, el tráfico dentro de la ZBE Centro es menor que fuera, lo que es coherente con las restricciones de acceso y circulación impuestas en el área central de Madrid.\n",
    "- **Valores negativos**: La mayor frecuencia de valores negativos refleja el efecto esperado de las políticas de restricción de tráfico en la ZBE Centro, especialmente tras la implantación de nuevas normativas en 2022.\n",
    "- **Valores positivos y outliers**: Existen días con valores positivos o extremos, que pueden estar asociados a eventos puntuales (obras, desvíos, festividades, episodios meteorológicos adversos, etc.) o a periodos de transición normativa. Estos outliers son importantes porque pueden indicar situaciones excepcionales que alteran el patrón habitual de movilidad.\n",
    "- **Contexto temporal**: Entre 2021 y 2024, la movilidad en Madrid ha estado marcada por la recuperación tras la pandemia de COVID-19, la implantación progresiva de las Zonas de Bajas Emisiones y la adaptación de la ciudadanía a las nuevas restricciones. Todo ello se refleja en la variabilidad y dispersión de la variable.\n",
    "\n",
    "**Conclusión:**  \n",
    "El análisis de la distribución y los outliers confirma que la variable innovadora es sensible tanto a las políticas públicas como a los eventos excepcionales, y resulta útil para captar los cambios en la movilidad urbana de Madrid en los últimos años."
   ]
  },
  {
   "cell_type": "markdown",
   "id": "f7a21358-ad84-4c0f-bf1f-2363ef1b21a2",
   "metadata": {},
   "source": [
    "## 2.2. Análisis de estacionalidad de la diferencia de tráfico\n",
    "Búscamos si existen patrones estacionales (mensuales, semanales, por días de la semana, etc.) en la diferencia de tráfico entre dentro y fuera de la ZBE Centro."
   ]
  },
  {
   "cell_type": "code",
   "execution_count": null,
   "id": "206de265-503d-4822-9ea2-9ac0bf18acba",
   "metadata": {},
   "outputs": [],
   "source": [
    "# Índice es de tipo fecha\n",
    "dif_centro.index = pd.to_datetime(dif_centro.index)\n",
    "\n",
    "# Creamos una columna con el mes y el año\n",
    "dif_centro['mes_anio'] = dif_centro.index.to_period('M')\n",
    "\n",
    "# Calculamos la media mensual\n",
    "media_mensual = dif_centro.groupby('mes_anio')['diferencia_trafico_en_zbe_centro'].mean()\n",
    "\n",
    "# Gráfica de la media mensual\n",
    "plt.figure(figsize=(14,5))\n",
    "media_mensual.plot(marker='o', color='teal')\n",
    "plt.title('Evolución mensual de la diferencia de tráfico (dentro vs. fuera ZBE Centro)')\n",
    "plt.xlabel('Mes-Año')\n",
    "plt.ylabel('Diferencia media de tráfico')\n",
    "plt.grid(True)\n",
    "plt.show()"
   ]
  },
  {
   "cell_type": "code",
   "execution_count": null,
   "id": "5f45b439-41dd-45eb-a828-ff6eccfefbca",
   "metadata": {},
   "outputs": [],
   "source": [
    "# Creamos una columna con el día de la semana\n",
    "dif_centro['dia_semana'] = dif_centro.index.day_name()\n",
    "\n",
    "# Calculamos la media por día de la semana\n",
    "media_semana = dif_centro.groupby('dia_semana')['diferencia_trafico_en_zbe_centro'].mean()\n",
    "# Ordenamos los días para que salgan en orden natural\n",
    "dias_orden = ['Monday', 'Tuesday', 'Wednesday', 'Thursday', 'Friday', 'Saturday', 'Sunday']\n",
    "media_semana = media_semana.reindex(dias_orden)\n",
    "\n",
    "# Gráfica\n",
    "plt.figure(figsize=(10,5))\n",
    "media_semana.plot(kind='bar', color='coral')\n",
    "plt.title('Diferencia media de tráfico por día de la semana')\n",
    "plt.xlabel('Día de la semana')\n",
    "plt.ylabel('Diferencia media de tráfico')\n",
    "plt.xticks(rotation=45)\n",
    "plt.show()"
   ]
  },
  {
   "cell_type": "markdown",
   "id": "1e13f264-b83b-4c64-9b48-aaaac2ecaecc",
   "metadata": {},
   "source": [
    "**Evolución mensual de la diferencia de tráfico (dentro vs. fuera ZBE Centro):**\n",
    "- Se observa una clara ruptura en la tendencia a partir de principios de 2022, coincidiendo con la implantación de nuevas restricciones y la ampliación de las Zonas de Bajas Emisiones en Madrid.\n",
    "- Durante 2022, la diferencia de tráfico se vuelve positiva y alcanza sus valores máximos, lo que sugiere un posible efecto frontera: parte del tráfico que antes circulaba por el interior de la ZBE Centro se desplaza a zonas limítrofes.\n",
    "- A partir de mediados de 2022, la diferencia disminuye y tiende a estabilizarse, reflejando una adaptación progresiva de la movilidad urbana a las nuevas normativas.\n",
    "- En los años previos (2021) y posteriores (2023), la diferencia de tráfico se mantiene mayoritariamente en valores negativos, lo que indica que, en condiciones normales, el tráfico suele ser mayor dentro de la ZBE Centro que fuera.\n",
    "\n",
    "**Diferencia media de tráfico por día de la semana:**\n",
    "- De lunes a viernes, la diferencia de tráfico es negativa y bastante estable, lo que refleja la mayor actividad laboral y de servicios en el centro de Madrid durante los días laborables.\n",
    "- Los fines de semana (especialmente sábados y domingos), la diferencia se vuelve positiva, indicando que el tráfico fuera de la ZBE Centro supera al del interior. Esto puede deberse a una reducción de la actividad en el centro y a un aumento de desplazamientos hacia zonas periféricas para ocio, compras o actividades familiares.\n",
    "- Este patrón semanal es coherente con la realidad de Madrid y refuerza la utilidad de la variable para captar dinámicas urbanas y efectos frontera.\n",
    "\n",
    "**Conclusión:**  \n",
    "El análisis estacional confirma que la variable “diferencia de tráfico” es sensible tanto a cambios normativos como a patrones de movilidad habituales en Madrid. Su comportamiento la convierte en un excelente indicador para estudios de impacto y modelización de calidad del aire."
   ]
  },
  {
   "cell_type": "markdown",
   "id": "30a69858-47b8-479c-8870-ef3e2daf7325",
   "metadata": {},
   "source": [
    "## 2.3. Relación entre la variable dentro/fuera de tráfico y la evolución del NO₂\n",
    "\n",
    "La interpretación se basa en la comparación entre:\n",
    "- La evolución temporal y estacional de la diferencia de tráfico (dentro vs. fuera de la ZBE Centro), obtenida en nuestro análisis exploratorio.\n",
    "- Las gráficas multi-anuales de NO₂ por zonas (ZBE Centro, Plaza Elíptica, Castellana, Cuatro Caminos) y el análisis mensual de este contaminante.\n",
    "- La tabla resumen de diferencias de NO₂ entre días laborables y fines de semana.\n",
    "\n",
    "Conclusiones clave:\n",
    "- Los periodos en los que la diferencia de tráfico aumenta (especialmente tras la implantación de nuevas ZBE en 2022) coinciden con descensos o cambios en la tendencia de los niveles de NO₂, especialmente en el interior de la ZBE Centro.\n",
    "- El patrón semanal de la variable de tráfico (mayor diferencia los fines de semana) se refleja también en los datos de NO₂, donde los valores suelen ser más bajos en fines de semana, confirmando la relación directa entre movilidad y contaminación.\n",
    "- La comparación multi-anual muestra que, tras la implantación de las ZBE, la brecha entre los valores de NO₂ dentro y fuera de las zonas reguladas tiende a reducirse, lo que sugiere un efecto positivo de las políticas de restricción del tráfico.\n",
    "\n",
    "En resumen:\n",
    "La variable de diferencia de tráfico es un excelente indicador para explicar y anticipar la evolución del NO₂ en Madrid, ya que capta tanto los efectos de las políticas públicas como los patrones reales de movilidad observados en los datos."
   ]
  },
  {
   "cell_type": "markdown",
   "id": "05336124-be91-4562-91a8-482396f511a7",
   "metadata": {},
   "source": [
    "# 3. Preparación de variable para modelado"
   ]
  },
  {
   "cell_type": "code",
   "execution_count": null,
   "id": "5f8fb618-c5f7-47e4-954e-deed292a1d39",
   "metadata": {},
   "outputs": [],
   "source": [
    "df_variable = dif_centro.reset_index()\n",
    "print(df_variable.columns)"
   ]
  },
  {
   "cell_type": "code",
   "execution_count": null,
   "id": "b1d6b980-0742-4a28-83c8-2586a5380e8e",
   "metadata": {},
   "outputs": [],
   "source": [
    "# Selección de las columnas necesarias\n",
    "df_variable = df_variable[['fecha_solo', 'diferencia_trafico_en_zbe_centro']]\n",
    "\n",
    "# Renombrar la columna a 'fecha' si así la tiene Raquel en su dataset\n",
    "df_variable = df_variable.rename(columns={'fecha_solo': 'fecha'})\n",
    "\n",
    "# Guarda el CSV\n",
    "df_variable.to_csv('variable_diferencia_trafico.csv', index=False)"
   ]
  },
  {
   "cell_type": "code",
   "execution_count": null,
   "id": "9d7584ae-f5ec-4f16-9f0b-46dd2a18bd31",
   "metadata": {},
   "outputs": [],
   "source": [
    "import os\n",
    "print(os.listdir())"
   ]
  },
  {
   "cell_type": "code",
   "execution_count": null,
   "id": "17c874ce-2d77-4cec-b0f6-ce6d091c9de1",
   "metadata": {},
   "outputs": [],
   "source": [
    "import pandas as pd\n",
    "pd.read_csv('variable_diferencia_trafico.csv').head()"
   ]
  },
  {
   "cell_type": "code",
   "execution_count": null,
   "id": "a1a7e3f9-006c-4000-b1b7-c73885192e35",
   "metadata": {},
   "outputs": [],
   "source": [
    "from IPython.display import FileLink\n",
    "FileLink('variable_diferencia_trafico.csv')"
   ]
  },
  {
   "cell_type": "code",
   "execution_count": null,
   "id": "3abfb1d3-9d17-49a3-a4d6-d77d33a1aa18",
   "metadata": {},
   "outputs": [],
   "source": []
  }
 ],
 "metadata": {
  "kernelspec": {
   "display_name": "Python 3 (ipykernel)",
   "language": "python",
   "name": "python3"
  },
  "language_info": {
   "codemirror_mode": {
    "name": "ipython",
    "version": 3
   },
   "file_extension": ".py",
   "mimetype": "text/x-python",
   "name": "python",
   "nbconvert_exporter": "python",
   "pygments_lexer": "ipython3",
   "version": "3.11.7"
  }
 },
 "nbformat": 4,
 "nbformat_minor": 5
}
